{
 "cells": [
  {
   "cell_type": "markdown",
   "metadata": {
    "pycharm": {
     "name": "#%% md\n"
    }
   },
   "source": [
    "# 安装 redis 模块"
   ]
  },
  {
   "cell_type": "markdown",
   "metadata": {
    "pycharm": {
     "name": "#%% md\n"
    }
   },
   "source": [
    "测试安装redis是否成功"
   ]
  },
  {
   "cell_type": "code",
   "execution_count": 74,
   "metadata": {
    "pycharm": {
     "name": "#%%\n"
    }
   },
   "outputs": [
    {
     "data": {
      "text/plain": [
       "True"
      ]
     },
     "execution_count": 74,
     "metadata": {},
     "output_type": "execute_result"
    }
   ],
   "source": [
    "import redis\n",
    "r = redis.StrictRedis(host='localhost', port=6379, db=0)\n",
    "r.set('foo', 'bar')"
   ]
  },
  {
   "cell_type": "code",
   "execution_count": 75,
   "metadata": {
    "pycharm": {
     "name": "#%%\n"
    }
   },
   "outputs": [
    {
     "data": {
      "text/plain": [
       "'bar'"
      ]
     },
     "execution_count": 75,
     "metadata": {},
     "output_type": "execute_result"
    }
   ],
   "source": [
    "r.get('foo')"
   ]
  },
  {
   "cell_type": "markdown",
   "metadata": {
    "pycharm": {
     "name": "#%% md\n"
    }
   },
   "source": [
    "redis 提供两个类 Redis 和 StrictRedis, StrictRedis 用于实现大部分官方的命令，Redis 是 StrictRedis 的子类，用于向后兼用旧版本。\n",
    "redis 取出的结果默认是字节，我们可以设定 decode_responses=True 改成字符串。"
   ]
  },
  {
   "cell_type": "code",
   "execution_count": 76,
   "metadata": {
    "pycharm": {
     "name": "#%%\n"
    }
   },
   "outputs": [
    {
     "name": "stdout",
     "output_type": "stream",
     "text": [
      "runoob\n",
      "runoob\n",
      "<type 'unicode'>\n"
     ]
    }
   ],
   "source": [
    "import redis # 导入 redis 模块\n",
    "\n",
    "r = redis.Redis(host='localhost', port=6379, decode_responses=True)\n",
    "r.set('name', 'runoob') # 设置 name 对应的值\n",
    "print r.get('name')\n",
    "print r.get('name') # 取出键 name 对应的值\n",
    "print type(r.get('name')) # 查看类型"
   ]
  },
  {
   "cell_type": "markdown",
   "metadata": {
    "pycharm": {
     "name": "#%% md\n"
    }
   },
   "source": [
    "# 连接池\n",
    "redis-py 使用 connection pool 来管理对一个 redis server 的所有连接，避免每次建立、释放连接的开销。\n",
    "默认，每个Redis实例都会维护一个自己的连接池。可以直接建立一个连接池，然后作为参数 Redis，这样就可以实现多个 Redis 实例共享一个连接池。"
   ]
  },
  {
   "cell_type": "code",
   "execution_count": 13,
   "metadata": {
    "pycharm": {
     "name": "#%%\n"
    }
   },
   "outputs": [
    {
     "name": "stdout",
     "output_type": "stream",
     "text": [
      "runoob\n"
     ]
    }
   ],
   "source": [
    "import redis # 导入 redis 模块\n",
    "\n",
    "pool = redis.ConnectionPool(host='localhost', port=6379, decode_responses=True)\n",
    "r = redis.Redis(host='localhost', port=6379, decode_responses=True)\n",
    "r.set('name', 'runoob') # 设置 name 对应的的值\n",
    "print r.get('name') # 取出键 name 对应的值"
   ]
  },
  {
   "cell_type": "markdown",
   "metadata": {
    "pycharm": {
     "name": "#%% md\n"
    }
   },
   "source": [
    "# redis 基本命令 String\n",
    "## 1、设置键值对\n",
    "set (name, value, ex=None, px=None, nx=False, xx=False)  \n",
    "在 Redis 中设置值，默认，不存在则创建，存在则修改。\n",
    "\n",
    "参数：\n",
    "- ex - 过期时间（秒）\n",
    "- px - 过期时间（毫秒）\n",
    "- nx - 如果设置为True，则只有name不存在时，当前set操作才执行\n",
    "- xx - 如果设置为True，则只有name存在时，当前set操作才执行\n"
   ]
  },
  {
   "cell_type": "markdown",
   "metadata": {
    "pycharm": {
     "name": "#%% md\n"
    }
   },
   "source": [
    "ex-过期时间（秒）这里过期时间时间是3秒， 3秒后，键food的值就变成None"
   ]
  },
  {
   "cell_type": "code",
   "execution_count": 82,
   "metadata": {
    "pycharm": {
     "name": "#%%\n"
    }
   },
   "outputs": [
    {
     "name": "stdout",
     "output_type": "stream",
     "text": [
      "mutton\n"
     ]
    }
   ],
   "source": [
    "import redis\n",
    "\n",
    "pool = redis.ConnectionPool(host='localhost', port='6379', decode_responses=True)\n",
    "r = redis.Redis(connection_pool=pool)\n",
    "r.set('food', 'mutton', ex=3) # key是“food” value是“mutton” 将键值对存入redis缓存\n",
    "print(r.get('food')) # mutton 取出键food对应的值"
   ]
  },
  {
   "cell_type": "markdown",
   "metadata": {
    "pycharm": {
     "name": "#%% md\n"
    }
   },
   "source": [
    "px - 过期时间（豪秒） 这里过期时间是3豪秒，3毫秒后，键foo的值就变成None"
   ]
  },
  {
   "cell_type": "code",
   "execution_count": 83,
   "metadata": {
    "pycharm": {
     "name": "#%%\n"
    }
   },
   "outputs": [
    {
     "name": "stdout",
     "output_type": "stream",
     "text": [
      "beef\n"
     ]
    }
   ],
   "source": [
    "import redis\n",
    "\n",
    "pool = redis.ConnectionPool(host='localhost', port=6379, decode_responses=True)\n",
    "r = redis.Redis(connection_pool=pool)\n",
    "r.set('food', 'beef', px=3)\n",
    "print(r.get('food'))"
   ]
  },
  {
   "cell_type": "markdown",
   "metadata": {
    "pycharm": {
     "name": "#%% md\n"
    }
   },
   "source": [
    "nx - 如果设置为True，则只有name不存在时，当前set操作才执行 （新建）"
   ]
  },
  {
   "cell_type": "code",
   "execution_count": 84,
   "metadata": {
    "pycharm": {
     "name": "#%%\n"
    }
   },
   "outputs": [
    {
     "name": "stdout",
     "output_type": "stream",
     "text": [
      "None\n"
     ]
    }
   ],
   "source": [
    "import redis\n",
    "\n",
    "pool = redis.ConnectionPool(host='localhost', port=6379, decode_responses=True)\n",
    "r = redis.Redis(connection_pool=pool)\n",
    "print r.set('fruit', 'watermelon', nx=True)    # True--不存在\n",
    "# 如果键fruit不存在，那么输出是True；如果键fruit已经存在，输出是None"
   ]
  },
  {
   "cell_type": "markdown",
   "metadata": {
    "pycharm": {
     "name": "#%% md\n"
    }
   },
   "source": [
    "xx - 如果设置为True，则只有name存在时，当前set操作才执行 （修改）"
   ]
  },
  {
   "cell_type": "code",
   "execution_count": 81,
   "metadata": {
    "pycharm": {
     "name": "#%%\n"
    }
   },
   "outputs": [
    {
     "name": "stdout",
     "output_type": "stream",
     "text": [
      "True\n"
     ]
    }
   ],
   "source": [
    "print((r.set('fruit', 'watermelon', xx=True)))   # True--已经存在\n",
    "# 如果键fruit已经存在，那么输出是True；如果键fruit不存在，输出是None"
   ]
  },
  {
   "cell_type": "markdown",
   "metadata": {
    "pycharm": {
     "name": "#%% md\n"
    }
   },
   "source": [
    "## 2、特定键值对设定\n",
    "1.setnx(name, value)  \n",
    "设置值，  \n",
    "只有name不存在时，执行设置操作（添加）"
   ]
  },
  {
   "cell_type": "code",
   "execution_count": 43,
   "metadata": {
    "pycharm": {
     "name": "#%%\n"
    }
   },
   "outputs": [
    {
     "name": "stdout",
     "output_type": "stream",
     "text": [
      "False\n"
     ]
    }
   ],
   "source": [
    "print r.setnx('fruit1', 'banana')  # fruit1不存在，输出为True"
   ]
  },
  {
   "cell_type": "markdown",
   "metadata": {
    "pycharm": {
     "name": "#%% md\n"
    }
   },
   "source": [
    "2.setex(name, time, value)   \n",
    "设置值  \n",
    "参数：  \n",
    "time - 过期时间（数字秒 或 timedelta对象）"
   ]
  },
  {
   "cell_type": "code",
   "execution_count": 49,
   "metadata": {
    "pycharm": {
     "name": "#%%\n"
    }
   },
   "outputs": [
    {
     "name": "stdout",
     "output_type": "stream",
     "text": [
      "None\n"
     ]
    }
   ],
   "source": [
    "import redis\n",
    "import time\n",
    "\n",
    "pool = redis.ConnectionPool(host='localhost', port=6379, decode_responses=True)\n",
    "r = redis.Redis(connection_pool=pool)\n",
    "r.setex(\"fruit2\", 5, \"orange\")\n",
    "time.sleep(5)\n",
    "print r.get('fruit2')  # 5秒后，取值就从orange变成None"
   ]
  },
  {
   "cell_type": "markdown",
   "metadata": {
    "pycharm": {
     "name": "#%% md\n"
    }
   },
   "source": [
    "3.psetex(name, time_ms, value)\n",
    "设置值  \n",
    "参数：  \n",
    "time_ms - 过期时间（数字毫秒 或 timedelta对象）"
   ]
  },
  {
   "cell_type": "code",
   "execution_count": 85,
   "metadata": {
    "pycharm": {
     "name": "#%%\n"
    }
   },
   "outputs": [
    {
     "name": "stdout",
     "output_type": "stream",
     "text": [
      "None\n"
     ]
    }
   ],
   "source": [
    "r.psetex(\"fruit3\", 5000, \"apple\")\n",
    "time.sleep(5)\n",
    "print r.get('fruit3')  # 5000毫秒后，取值就从apple变成None"
   ]
  },
  {
   "cell_type": "markdown",
   "metadata": {
    "pycharm": {
     "name": "#%% md\n"
    }
   },
   "source": [
    "4.mset(*args, **kwargs)  \n",
    "批量设置值\n"
   ]
  },
  {
   "cell_type": "code",
   "execution_count": 112,
   "metadata": {
    "pycharm": {
     "name": "#%%\n"
    }
   },
   "outputs": [
    {
     "name": "stdout",
     "output_type": "stream",
     "text": [
      "[u'v2', u'v1']\n",
      "[u'1', u'2']\n",
      "[u'1']\n"
     ]
    }
   ],
   "source": [
    "r.set('k1', 'v1')\n",
    "r.set('k2', 'v2')\n",
    "print r.mget({'k1': 'v1', 'k2': 'v2'})\n",
    "r.mset({'k1': '1', 'k2': '2'}) # 这里k1 和k2 不能带引号 一次设置多个键值对\n",
    "print r.mget(\"k1\", \"k2\")   # 一次取出多个键对应的值\n",
    "print r.mget(\"k1\")"
   ]
  },
  {
   "cell_type": "markdown",
   "metadata": {
    "pycharm": {
     "name": "#%% md\n"
    }
   },
   "source": [
    "5.mget(keys, *args)   \n",
    "批量获取"
   ]
  },
  {
   "cell_type": "code",
   "execution_count": 115,
   "metadata": {
    "pycharm": {
     "name": "#%%\n"
    }
   },
   "outputs": [
    {
     "name": "stdout",
     "output_type": "stream",
     "text": [
      "[u'1', u'2']\n",
      "[u'1', u'2']\n",
      "[u'watermelon', u'banana', None, u'1', u'2']\n"
     ]
    }
   ],
   "source": [
    "print r.mget('k1', 'k2')\n",
    "print r.mget(['k1', 'k2'])\n",
    "print r.mget(\"fruit\", \"fruit1\", \"fruit2\", \"k1\", \"k2\")  # 将目前redis缓存中的键对应的值批量取出来"
   ]
  },
  {
   "cell_type": "markdown",
   "metadata": {
    "pycharm": {
     "name": "#%% md\n"
    }
   },
   "source": [
    "6.getset(name, value)  \n",
    "设置新值并获取原来的值"
   ]
  },
  {
   "cell_type": "code",
   "execution_count": 114,
   "metadata": {
    "pycharm": {
     "name": "#%%\n"
    }
   },
   "outputs": [
    {
     "name": "stdout",
     "output_type": "stream",
     "text": [
      "beef\n"
     ]
    }
   ],
   "source": [
    "r.set(\"food\", \"beef\")\n",
    "print r.getset(\"food\", \"barbecue\")  # 设置的新值是barbecue 设置前的值是beef"
   ]
  },
  {
   "cell_type": "markdown",
   "metadata": {
    "pycharm": {
     "name": "#%% md\n"
    }
   },
   "source": [
    "7.getrange(key, start, end)  \n",
    "获取子序列（根据字节获取，非字符）  \n",
    "参数：  \n",
    "name - Redis 的 name  \n",
    "start - 起始位置（字节）  \n",
    "end - 结束位置（字节）  \n",
    "如： \"君惜大大\" ，0-3表示 \"君\"  "
   ]
  },
  {
   "cell_type": "code",
   "execution_count": 51,
   "metadata": {
    "pycharm": {
     "name": "#%%\n"
    }
   },
   "outputs": [
    {
     "name": "stdout",
     "output_type": "stream",
     "text": [
      "君\n",
      "君惜大大\n",
      "jun\n",
      "junxi\n"
     ]
    }
   ],
   "source": [
    "r.set(\"cn_name\", \"君惜大大\") # 汉字\n",
    "print r.getrange(\"cn_name\", 0, 2)   # 取索引号是0-2 前3位的字节 君 切片操作 （一个汉字3个字节 1个字母一个字节 每个字节8bit）\n",
    "print r.getrange(\"cn_name\", 0, -1)  # 取所有的字节 君惜大大 切片操作\n",
    "r.set(\"en_name\",\"junxi\") # 字母\n",
    "print r.getrange(\"en_name\", 0, 2)  # 取索引号是0-2 前3位的字节 jun 切片操作 （一个汉字3个字节 1个字母一个字节 每个字节8bit）\n",
    "print r.getrange(\"en_name\", 0, -1) # 取所有的字节 junxi 切片操作"
   ]
  },
  {
   "cell_type": "markdown",
   "metadata": {
    "pycharm": {
     "name": "#%% md\n"
    }
   },
   "source": [
    "8.setrange(name, offset, value)  \n",
    "修改字符串内容，从指定字符串索引开始向后替换（新值太长时，则向后添加）  \n",
    "参数：  \n",
    "- offset - 字符串的索引，字节（一个汉字三个字节）  \n",
    "- value - 要设置的值  "
   ]
  },
  {
   "cell_type": "code",
   "execution_count": 52,
   "metadata": {
    "pycharm": {
     "name": "#%%\n"
    }
   },
   "outputs": [
    {
     "name": "stdout",
     "output_type": "stream",
     "text": [
      "jccci\n"
     ]
    }
   ],
   "source": [
    "r.setrange(\"en_name\", 1, \"ccc\")\n",
    "print r.get(\"en_name\")    # jccci 原始值是junxi 从索引号是1开始替换成ccc 变成 jccci"
   ]
  },
  {
   "cell_type": "markdown",
   "metadata": {
    "pycharm": {
     "name": "#%% md\n"
    }
   },
   "source": [
    "9.setbit(name, offset, value)  \n",
    "对 name 对应值的二进制表示的位进行操作  \n",
    "参数：  \n",
    "- name - redis的name  \n",
    "- offset - 位的索引（将值变换成二进制后再进行索引）  \n",
    "- value - 值只能是 1 或 0  \n",
    "\n",
    "\n",
    "注：如果在Redis中有一个对应： n1 = \"foo\"，  \n",
    "那么字符串foo的二进制表示为：01100110 01101111 01101111  \n",
    "所以，如果执行 setbit('n1', 7, 1)，则就会将第7位设置为1，  \n",
    "那么最终二进制则变成 01100111 01101111 01101111，即：\"goo\"  \n",
    "扩展，转换二进制表示：  "
   ]
  },
  {
   "cell_type": "code",
   "execution_count": 54,
   "metadata": {
    "pycharm": {
     "name": "#%%\n"
    }
   },
   "outputs": [
    {
     "name": "stdout",
     "output_type": "stream",
     "text": [
      "01101111\n"
     ]
    }
   ],
   "source": [
    "source = \"陈思维\"\n",
    "source = \"foo\"\n",
    "for i in source:\n",
    "    num = ord(i)\n",
    "print bin(num).replace('b','')"
   ]
  },
  {
   "cell_type": "markdown",
   "metadata": {
    "pycharm": {
     "name": "#%% md\n"
    }
   },
   "source": [
    "**特别的，如果source是汉字 \"陈思维\"怎么办？**\n",
    "答：对于utf-8，每一个汉字占 3 个字节，那么 \"陈思维\" 则有 9个字节 对于汉字，for循环时候会按照 字节 迭代，那么在迭代时，将每一个字节转换 十进制数，然后再将十进制数转换成二进制 11100110 10101101 10100110 11100110 10110010 10011011 11101001 10111101 10010000  \n",
    "\n",
    "\n",
    "10.getbit(name, offset)\n",
    "获取name对应的值的二进制表示中的某位的值 （0或1）"
   ]
  },
  {
   "cell_type": "code",
   "execution_count": 55,
   "metadata": {
    "pycharm": {
     "name": "#%%\n"
    }
   },
   "outputs": [
    {
     "name": "stdout",
     "output_type": "stream",
     "text": [
      "0\n"
     ]
    }
   ],
   "source": [
    "print r.getbit(\"foo1\", 0) # 0 foo1 对应的二进制 4个字节 32位 第0位是0还是1"
   ]
  },
  {
   "cell_type": "markdown",
   "metadata": {
    "pycharm": {
     "name": "#%% md\n"
    }
   },
   "source": [
    "11.bitcount (key, start=None, end=None)\n",
    "获取name对应的值的二进制表示中 1 的个数  \n",
    "参数：\n",
    "- key - Redis的name\n",
    "- start - 字节起始位置\n",
    "- end - 字节结束位置"
   ]
  },
  {
   "cell_type": "code",
   "execution_count": 56,
   "metadata": {
    "pycharm": {
     "name": "#%%\n"
    }
   },
   "outputs": [
    {
     "name": "stdout",
     "output_type": "stream",
     "text": [
      "bar\n",
      "6\n"
     ]
    }
   ],
   "source": [
    "print r.get(\"foo\")  # goo1 01100111\n",
    "print r.bitcount(\"foo\",0,1)  # 11 表示前2个字节中，1出现的个数"
   ]
  },
  {
   "cell_type": "markdown",
   "metadata": {
    "pycharm": {
     "name": "#%% md\n"
    }
   },
   "source": [
    "12.bitop(operation, dest, *keys)\n",
    "获取多个值，并将值做位运算，将最后的结果保存至新的name对应的值  \n",
    "参数：  \n",
    "- operation - AND（并） 、 OR（或） 、 NOT（非） 、 XOR（异或）\n",
    "- dest - 新的Redis的name\n",
    "- *keys - 要查找的Redis的name  \n",
    "\n",
    "如：  "
   ]
  },
  {
   "cell_type": "code",
   "execution_count": 59,
   "metadata": {
    "pycharm": {
     "name": "#%%\n"
    }
   },
   "outputs": [
    {
     "data": {
      "text/plain": [
       "0L"
      ]
     },
     "execution_count": 59,
     "metadata": {},
     "output_type": "execute_result"
    }
   ],
   "source": [
    "import redis\n",
    "r.bitop(\"AND\", 'new_name', 'n1', 'n2', 'n3')"
   ]
  },
  {
   "cell_type": "markdown",
   "metadata": {
    "pycharm": {
     "name": "#%% md\n"
    }
   },
   "source": [
    "获取Redis中n1,n2,n3对应的值，然后讲所有的值做位运算（求并集），然后将结果保存 new_name 对应的值中"
   ]
  },
  {
   "cell_type": "code",
   "execution_count": 64,
   "metadata": {
    "pycharm": {
     "name": "#%%\n"
    }
   },
   "outputs": [
    {
     "name": "stdout",
     "output_type": "stream",
     "text": [
      "[u'1', u'2']\n",
      "1\n",
      "[u'1', u'2', u'0']\n",
      "50\n",
      "0b110010\n",
      "0110010\n"
     ]
    }
   ],
   "source": [
    "r.set(\"foo\",\"1\")  # 0110001\n",
    "r.set(\"foo1\",\"2\")  # 0110010\n",
    "print r.mget(\"foo\",\"foo1\")  # ['goo1', 'baaanew']\n",
    "print r.bitop(\"AND\",\"new\",\"foo\",\"foo1\")  # \"new\" 0 0110000\n",
    "print r.mget(\"foo\",\"foo1\",\"new\")\n",
    "\n",
    "source = \"12\"\n",
    "for i in source:\n",
    "    num = ord(i)\n",
    "print num  # 打印每个字母字符或者汉字字符对应的ascii码值 f-102-0b100111-01100111\n",
    "print bin(num)  # 打印每个10进制ascii码值转换成二进制的值 0b1100110（0b表示二进制）\n",
    "print bin(num).replace('b','')  # 将二进制0b1100110替换成01100110"
   ]
  },
  {
   "cell_type": "markdown",
   "metadata": {
    "pycharm": {
     "name": "#%% md\n"
    }
   },
   "source": [
    "13.strlen(name)  \n",
    "返回name对应值的字节长度（一个汉字3个字节）"
   ]
  },
  {
   "cell_type": "code",
   "execution_count": 66,
   "metadata": {
    "pycharm": {
     "name": "#%%\n"
    }
   },
   "outputs": [
    {
     "name": "stdout",
     "output_type": "stream",
     "text": [
      "4\n"
     ]
    }
   ],
   "source": [
    "r.set(\"foo\", \"gool\")\n",
    "print r.strlen(\"foo\")  # 4 'goo1'的长度是4"
   ]
  },
  {
   "cell_type": "markdown",
   "metadata": {
    "pycharm": {
     "name": "#%% md\n"
    }
   },
   "source": [
    "18.incr(self, name, amount=1)  \n",
    "自增 name 对应的值，当 name 不存在时，则创建 name＝amount，否则，则自增。  \n",
    "参数：  \n",
    "- name - Redis的name\n",
    "- amount - 自增数（必须是整数）\n",
    "\n",
    "\n",
    "注：同 incrby"
   ]
  },
  {
   "cell_type": "code",
   "execution_count": 67,
   "metadata": {
    "pycharm": {
     "name": "#%%\n"
    }
   },
   "outputs": [
    {
     "name": "stdout",
     "output_type": "stream",
     "text": [
      "[u'123', u'2', None, None, None]\n",
      "[u'124', u'2', None, None, None]\n"
     ]
    }
   ],
   "source": [
    "r.set(\"foo\", 123)\n",
    "print r.mget(\"foo\", \"foo1\", \"foo2\", \"k1\", \"k2\")\n",
    "r.incr(\"foo\", amount=1)\n",
    "print r.mget(\"foo\", \"foo1\", \"foo2\", \"k1\", \"k2\")"
   ]
  },
  {
   "cell_type": "markdown",
   "metadata": {
    "pycharm": {
     "name": "#%% md\n"
    }
   },
   "source": [
    "**应用场景 – 页面点击数**  \n",
    "假定我们对一系列页面需要记录点击次数。例如论坛的每个帖子都要记录点击次数，而点击次数比回帖的次数的多得多。如果使用关系数据库来存储点击，可能存在大量的行级锁争用。所以，点击数的增加使用redis的INCR命令最好不过了。\n",
    "当redis服务器启动时，可以从关系数据库读入点击数的初始值（12306这个页面被访问了34634次）"
   ]
  },
  {
   "cell_type": "code",
   "execution_count": 68,
   "metadata": {
    "pycharm": {
     "name": "#%%\n"
    }
   },
   "outputs": [
    {
     "name": "stdout",
     "output_type": "stream",
     "text": [
      "34634\n"
     ]
    }
   ],
   "source": [
    "r.set(\"visit:12306:totals\", 34634)\n",
    "print r.get(\"visit:12306:totals\")"
   ]
  },
  {
   "cell_type": "markdown",
   "metadata": {
    "pycharm": {
     "name": "#%% md\n"
    }
   },
   "source": [
    "每当有一个页面点击，则使用INCR增加点击数即可。"
   ]
  },
  {
   "cell_type": "code",
   "execution_count": 69,
   "metadata": {
    "pycharm": {
     "name": "#%%\n"
    }
   },
   "outputs": [
    {
     "data": {
      "text/plain": [
       "34636"
      ]
     },
     "execution_count": 69,
     "metadata": {},
     "output_type": "execute_result"
    }
   ],
   "source": [
    "r.incr(\"visit:12306:totals\")\n",
    "r.incr(\"visit:12306:totals\")"
   ]
  },
  {
   "cell_type": "markdown",
   "metadata": {
    "pycharm": {
     "name": "#%% md\n"
    }
   },
   "source": [
    "页面载入的时候则可直接获取这个值"
   ]
  },
  {
   "cell_type": "code",
   "execution_count": 71,
   "metadata": {
    "pycharm": {
     "name": "#%%\n"
    }
   },
   "outputs": [
    {
     "name": "stdout",
     "output_type": "stream",
     "text": [
      "34636\n"
     ]
    }
   ],
   "source": [
    "print r.get(\"visit:12306:totals\")"
   ]
  },
  {
   "cell_type": "markdown",
   "metadata": {
    "pycharm": {
     "name": "#%% md\n"
    }
   },
   "source": [
    "14.incrbyfloat(self, name, amount=1.0)  \n",
    "自增 name对应的值，当name不存在时，则创建name＝amount，否则，则自增。  \n",
    "参数：  \n",
    "- name - Redis的name  \n",
    "- amount - 自增数（浮点型）  "
   ]
  },
  {
   "cell_type": "code",
   "execution_count": 72,
   "metadata": {
    "pycharm": {
     "name": "#%%\n"
    }
   },
   "outputs": [
    {
     "name": "stdout",
     "output_type": "stream",
     "text": [
      "[u'123.0', u'221.0']\n",
      "[u'125', u'224']\n"
     ]
    }
   ],
   "source": [
    "r.set(\"foo1\", \"123.0\")\n",
    "r.set(\"foo2\", \"221.0\")\n",
    "print r.mget(\"foo1\", \"foo2\")\n",
    "r.incrbyfloat(\"foo1\", amount=2.0)\n",
    "r.incrbyfloat(\"foo2\", amount=3.0)\n",
    "print r.mget(\"foo1\", \"foo2\")"
   ]
  },
  {
   "cell_type": "markdown",
   "metadata": {
    "pycharm": {
     "name": "#%% md\n"
    }
   },
   "source": [
    "15.decr(self, name, amount=1)   \n",
    "自减 name 对应的值，当 name 不存在时，则创建 name＝amount，否则，则自减。  \n",
    "参数：  \n",
    "- name - Redis的name  \n",
    "- amount - 自减数（整数)  "
   ]
  },
  {
   "cell_type": "code",
   "execution_count": 73,
   "metadata": {
    "pycharm": {
     "name": "#%%\n"
    }
   },
   "outputs": [
    {
     "name": "stdout",
     "output_type": "stream",
     "text": [
      "[u'124', u'-3']\n"
     ]
    }
   ],
   "source": [
    "r.decr(\"foo4\", amount=3) # 递减3\n",
    "r.decr(\"foo1\", amount=1) # 递减1\n",
    "print r.mget(\"foo1\", \"foo4\")"
   ]
  },
  {
   "cell_type": "markdown",
   "metadata": {
    "pycharm": {
     "name": "#%% md\n"
    }
   },
   "source": [
    "16.append(key, value)  \n",
    "在redis name对应的值后面追加内容  \n",
    "参数：  \n",
    "- key - redis的name\n",
    "- value - 要追加的字符串"
   ]
  },
  {
   "cell_type": "code",
   "execution_count": 74,
   "metadata": {
    "pycharm": {
     "name": "#%%\n"
    }
   },
   "outputs": [
    {
     "name": "stdout",
     "output_type": "stream",
     "text": [
      "[u'runoobhaha']\n"
     ]
    }
   ],
   "source": [
    "r.append(\"name\", \"haha\")    # 在name对应的值junxi后面追加字符串haha\n",
    "print r.mget(\"name\")"
   ]
  },
  {
   "cell_type": "markdown",
   "metadata": {
    "pycharm": {
     "name": "#%% md\n"
    }
   },
   "source": [
    "# redis 基本命令 hash\n",
    "## 1、单个增加--修改(单个取出)--没有就新增，有的话就修改"
   ]
  },
  {
   "cell_type": "markdown",
   "metadata": {
    "pycharm": {
     "name": "#%% md\n"
    }
   },
   "source": [
    "hset(name, key, value)  \n",
    "name对应的hash中设置一个键值对（不存在，则创建；否则，修改）  \n",
    "参数：  \n",
    "- name - redis的name  \n",
    "- key - name对应的hash中的key  \n",
    "- value - name对应的hash中的value  \n",
    "\n",
    "\n",
    "注：hsetnx(name, key, value) 当name对应的hash中不存在当前key时则创建（相当于添加）  "
   ]
  },
  {
   "cell_type": "code",
   "execution_count": 118,
   "metadata": {
    "pycharm": {
     "name": "#%%\n"
    }
   },
   "outputs": [
    {
     "name": "stdout",
     "output_type": "stream",
     "text": [
      "[u'k2', u'k11', u'k3', u'k4', u'k5', u'k6', u'k1']\n",
      "v1\n",
      "[u'v1', u'v2']\n",
      "v2\n"
     ]
    }
   ],
   "source": [
    "import redis\n",
    "import time\n",
    "\n",
    "pool = redis.ConnectionPool(host='localhost', port=6379, decode_responses=True)\n",
    "r = redis.Redis(connection_pool=pool)\n",
    "\n",
    "r.hset(\"hash1\", \"k1\", \"v1\")\n",
    "r.hset(\"hash1\", \"k2\", \"v2\")\n",
    "print r.hkeys(\"hash1\") # 取hash中所有的key\n",
    "print r.hget(\"hash1\", \"k1\") # 单个取hash的key对应的值\n",
    "print r.hmget(\"hash1\", \"k1\", \"k2\") # 多个取hash的key对应的值\n",
    "r.hsetnx(\"hash1\", \"k2\", \"v3\") # 只能新建\n",
    "print r.hget(\"hash1\", \"k2\")"
   ]
  },
  {
   "cell_type": "markdown",
   "metadata": {
    "pycharm": {
     "name": "#%% md\n"
    }
   },
   "source": [
    "## 2、批量增加（取出）  \n",
    "hmset(name, mapping)  \n",
    "在name对应的hash中批量设置键值对  \n",
    "参数：  \n",
    "- name - redis的name  \n",
    "- mapping - 字典，如：{'k1':'v1', 'k2': 'v2'}\n",
    "\n",
    "\n",
    "如："
   ]
  },
  {
   "cell_type": "code",
   "execution_count": 119,
   "metadata": {
    "pycharm": {
     "name": "#%%\n"
    }
   },
   "outputs": [
    {
     "name": "stdout",
     "output_type": "stream",
     "text": [
      "v2\n"
     ]
    },
    {
     "name": "stderr",
     "output_type": "stream",
     "text": [
      "/opt/anaconda3/envs/python2/lib/python2.7/site-packages/ipykernel_launcher.py:1: DeprecationWarning: Redis.hmset() is deprecated. Use Redis.hset() instead.\n",
      "  \"\"\"Entry point for launching an IPython kernel.\n"
     ]
    }
   ],
   "source": [
    "r.hmset(\"hash2\", {\"k2\": \"v2\", \"k3\": \"v3\"})\n",
    "print r.hget(\"hash2\",\"k2\")"
   ]
  },
  {
   "cell_type": "markdown",
   "metadata": {
    "pycharm": {
     "name": "#%% md\n"
    }
   },
   "source": [
    "在name对应的hash中获取根据key获取value  \n",
    "hmget(name, keys, *args)  \n",
    "在name对应的hash中获取多个key的值  \n",
    "参数：  \n",
    "- name - reids对应的name  \n",
    "- keys - 要获取key集合，如：['k1', 'k2', 'k3']  \n",
    "- *args - 要获取的key，如：k1,k2,k3\n",
    "\n",
    "\n",
    "如："
   ]
  },
  {
   "cell_type": "code",
   "execution_count": 120,
   "metadata": {
    "pycharm": {
     "name": "#%%\n"
    }
   },
   "outputs": [
    {
     "name": "stdout",
     "output_type": "stream",
     "text": [
      "v2\n",
      "[u'v2', u'v3']\n",
      "[u'v2', u'v3']\n"
     ]
    }
   ],
   "source": [
    "print r.hget(\"hash2\", \"k2\")  # 单个取出\"hash2\"的key-k2对应的value\n",
    "print r.hmget(\"hash2\", \"k2\", \"k3\")  # 批量取出\"hash2\"的key-k2 k3对应的value --方式1\n",
    "print r.hmget(\"hash2\", [\"k2\", \"k3\"])  # 批量取出\"hash2\"的key-k2 k3对应的value --方式2"
   ]
  },
  {
   "cell_type": "markdown",
   "metadata": {
    "pycharm": {
     "name": "#%% md\n"
    }
   },
   "source": [
    "## 3、取出所有的键值对\n",
    "hgetall(name)  \n",
    "获取name对应hash的所有键值"
   ]
  },
  {
   "cell_type": "code",
   "execution_count": 121,
   "metadata": {
    "pycharm": {
     "name": "#%%\n"
    }
   },
   "outputs": [
    {
     "name": "stdout",
     "output_type": "stream",
     "text": [
      "{u'k11': u'v1', u'k3': u'122', u'k2': u'v2', u'k1': u'v1', u'k6': u'-1', u'k5': u'0', u'k4': u'1'}\n"
     ]
    }
   ],
   "source": [
    "print r.hgetall(\"hash1\")"
   ]
  },
  {
   "cell_type": "markdown",
   "metadata": {
    "pycharm": {
     "name": "#%% md\n"
    }
   },
   "source": [
    "## 4、得到所有键值对的格式 hash长度  \n",
    "hlen(name)  \n",
    "获取name对应的hash中键值对的个数"
   ]
  },
  {
   "cell_type": "code",
   "execution_count": 122,
   "metadata": {
    "pycharm": {
     "name": "#%%\n"
    }
   },
   "outputs": [
    {
     "name": "stdout",
     "output_type": "stream",
     "text": [
      "7\n"
     ]
    }
   ],
   "source": [
    "print r.hlen(\"hash1\")"
   ]
  },
  {
   "cell_type": "markdown",
   "metadata": {
    "pycharm": {
     "name": "#%% md\n"
    }
   },
   "source": [
    "## 5、得到所有的keys（类似字典的取所有keys）\n",
    "hkeys(name)  \n",
    "获取name对应的hash中所有的key的值"
   ]
  },
  {
   "cell_type": "code",
   "execution_count": 123,
   "metadata": {
    "pycharm": {
     "name": "#%%\n"
    }
   },
   "outputs": [
    {
     "name": "stdout",
     "output_type": "stream",
     "text": [
      "[u'k2', u'k11', u'k3', u'k4', u'k5', u'k6', u'k1']\n"
     ]
    }
   ],
   "source": [
    "print r.hkeys(\"hash1\")"
   ]
  },
  {
   "cell_type": "markdown",
   "metadata": {
    "pycharm": {
     "name": "#%% md\n"
    }
   },
   "source": [
    "## 6、得到所有的value（类似字典的取所有value）\n",
    "hvals(name)  \n",
    "获取name对应的hash中所有的value的值"
   ]
  },
  {
   "cell_type": "code",
   "execution_count": 85,
   "metadata": {
    "pycharm": {
     "name": "#%%\n"
    }
   },
   "outputs": [
    {
     "name": "stdout",
     "output_type": "stream",
     "text": [
      "[u'v1', u'v2']\n"
     ]
    }
   ],
   "source": [
    "print r.hvals(\"hash1\")"
   ]
  },
  {
   "cell_type": "markdown",
   "metadata": {
    "pycharm": {
     "name": "#%% md\n"
    }
   },
   "source": [
    "## 7、判断成员是否存在（类似字典的in）\n",
    "hexists(name, key)  \n",
    "检查 name 对应的 hash 是否存在当前传入的 key"
   ]
  },
  {
   "cell_type": "code",
   "execution_count": 124,
   "metadata": {
    "pycharm": {
     "name": "#%%\n"
    }
   },
   "outputs": [
    {
     "name": "stdout",
     "output_type": "stream",
     "text": [
      "True\n",
      "True\n"
     ]
    }
   ],
   "source": [
    "print r.hexists(\"hash1\", \"k4\")  # False 不存在\n",
    "print r.hexists(\"hash1\", \"k1\")  # True 存在"
   ]
  },
  {
   "cell_type": "markdown",
   "metadata": {
    "pycharm": {
     "name": "#%% md\n"
    }
   },
   "source": [
    "##  8、删除键值对\n",
    "hdel(name,*keys)  \n",
    "将name对应的hash中指定key的键值对删除"
   ]
  },
  {
   "cell_type": "code",
   "execution_count": 125,
   "metadata": {
    "pycharm": {
     "name": "#%%\n"
    }
   },
   "outputs": [
    {
     "name": "stdout",
     "output_type": "stream",
     "text": [
      "{u'k11': u'v1', u'k3': u'122', u'k2': u'v2', u'k1': u'v1', u'k6': u'-1', u'k5': u'0', u'k4': u'1'}\n",
      "{u'k11': u'v1', u'k3': u'122', u'k2': u'v222', u'k6': u'-1', u'k5': u'0', u'k4': u'1'}\n"
     ]
    }
   ],
   "source": [
    "print r.hgetall(\"hash1\")\n",
    "r.hset(\"hash1\", \"k2\", \"v222\")   # 修改已有的key k2\n",
    "r.hset(\"hash1\", \"k11\", \"v1\")   # 新增键值对 k11\n",
    "r.hdel(\"hash1\", \"k1\")    # 删除一个键值对\n",
    "print r.hgetall(\"hash1\")"
   ]
  },
  {
   "cell_type": "markdown",
   "metadata": {
    "pycharm": {
     "name": "#%% md\n"
    }
   },
   "source": [
    "## 9、自增自减整数(将key对应的value--整数 自增1或者2，或者别的整数 负数就是自减)\n",
    "hincrby(name, key, amount=1)  \n",
    "自增name对应的hash中的指定key的值，不存在则创建key=amount  \n",
    "参数：  \n",
    "- name - redis中的name  \n",
    "- key - hash对应的key  \n",
    "- amount - 自增数（整数）  "
   ]
  },
  {
   "cell_type": "code",
   "execution_count": 126,
   "metadata": {
    "pycharm": {
     "name": "#%%\n"
    }
   },
   "outputs": [
    {
     "name": "stdout",
     "output_type": "stream",
     "text": [
      "{u'k11': u'v1', u'k3': u'122', u'k2': u'v222', u'k6': u'-1', u'k5': u'0', u'k4': u'1'}\n",
      "{u'k11': u'v1', u'k3': u'122', u'k2': u'v222', u'k6': u'-1', u'k5': u'0', u'k4': u'2'}\n"
     ]
    }
   ],
   "source": [
    "r.hset(\"hash1\", \"k3\", 123)\n",
    "r.hincrby(\"hash1\", \"k3\", amount=-1)\n",
    "print r.hgetall(\"hash1\")\n",
    "r.hincrby(\"hash1\", \"k4\", amount=1)  # 不存在的话，value默认就是1\n",
    "print r.hgetall(\"hash1\") "
   ]
  },
  {
   "cell_type": "markdown",
   "metadata": {
    "pycharm": {
     "name": "#%% md\n"
    }
   },
   "source": [
    "## 10、自增自减浮点数(将key对应的value--浮点数 自增1.0或者2.0，或者别的浮点数 负数就是自减)\n",
    "hincrbyfloat(name, key, amount=1.0)  \n",
    "自增name对应的hash中的指定key的值，不存在则创建key=amount  \n",
    "参数：  \n",
    "- name - redis中的name  \n",
    "- key - hash对应的key  \n",
    "- amount，自增数（浮点数）  \n",
    "\n",
    "\n",
    "自增 name 对应的 hash 中的指定 key 的值，不存在则创建 key=amount。  "
   ]
  },
  {
   "cell_type": "code",
   "execution_count": 127,
   "metadata": {
    "pycharm": {
     "name": "#%%\n"
    }
   },
   "outputs": [
    {
     "name": "stdout",
     "output_type": "stream",
     "text": [
      "{u'k11': u'v1', u'k3': u'122', u'k2': u'v222', u'k6': u'-1', u'k5': u'0', u'k4': u'2'}\n",
      "{u'k11': u'v1', u'k3': u'122', u'k2': u'v222', u'k6': u'-2', u'k5': u'0', u'k4': u'2'}\n"
     ]
    }
   ],
   "source": [
    "r.hset(\"hash1\", \"k5\", \"1.0\")\n",
    "r.hincrbyfloat(\"hash1\", \"k5\", amount=-1.0)    # 已经存在，递减-1.0\n",
    "print r.hgetall(\"hash1\")\n",
    "r.hincrbyfloat(\"hash1\", \"k6\", amount=-1.0)    # 不存在，value初始值是-1.0 每次递减1.0\n",
    "print r.hgetall(\"hash1\")"
   ]
  },
  {
   "cell_type": "markdown",
   "metadata": {
    "pycharm": {
     "name": "#%% md\n"
    }
   },
   "source": [
    "## 11、取值查看--分片读取\n",
    "hscan(name, cursor=0, match=None, count=None)  \n",
    "增量式迭代获取，对于数据大的数据非常有用，hscan可以实现分片的获取数据，并非一次性将数据全部获取完，从而放置内存被撑爆  \n",
    "参数：  \n",
    "- name - redis的name  \n",
    "- cursor - 游标（基于游标分批取获取数据）  \n",
    "- match - 匹配指定key，默认None 表示所有的key  \n",
    "- count - 每次分片最少获取个数，默认None表示采用Redis的默认分片个数 \n",
    "\n",
    "\n",
    "如：  "
   ]
  },
  {
   "cell_type": "code",
   "execution_count": 128,
   "metadata": {
    "collapsed": true,
    "pycharm": {
     "name": "#%%\n"
    }
   },
   "outputs": [],
   "source": [
    "cursor1, data1 = r.hscan('xx', cursor=0, match=None, count=None)\n",
    "cursor2, data1 = r.hscan('xx', cursor=cursor1, match=None, count=None)"
   ]
  },
  {
   "cell_type": "markdown",
   "metadata": {
    "pycharm": {
     "name": "#%% md\n"
    }
   },
   "source": [
    "直到返回值cursor的值为0时，表示数据已经通过分片获取完毕"
   ]
  },
  {
   "cell_type": "code",
   "execution_count": 129,
   "metadata": {
    "pycharm": {
     "name": "#%%\n"
    }
   },
   "outputs": [
    {
     "name": "stdout",
     "output_type": "stream",
     "text": [
      "(0L, {u'k11': u'v1', u'k3': u'122', u'k2': u'v222', u'k6': u'-2', u'k5': u'0', u'k4': u'2'})\n"
     ]
    }
   ],
   "source": [
    "print r.hscan(\"hash1\")"
   ]
  },
  {
   "cell_type": "markdown",
   "metadata": {
    "pycharm": {
     "name": "#%% md\n"
    }
   },
   "source": [
    "## 12、hscan_iter(name, match=None, count=None)\n",
    "利用yield封装hscan创建生成器，实现分批去redis中获取数据  \n",
    "参数：  \n",
    "- match - 匹配指定key，默认None 表示所有的key  \n",
    "- count - 每次分片最少获取个数，默认None表示采用Redis的默认分片个数  \n",
    "\n",
    "\n",
    "如："
   ]
  },
  {
   "cell_type": "code",
   "execution_count": 130,
   "metadata": {
    "pycharm": {
     "name": "#%%\n"
    }
   },
   "outputs": [
    {
     "name": "stdout",
     "output_type": "stream",
     "text": [
      "(u'k11', u'v1')\n",
      "(u'k3', u'122')\n",
      "(u'k2', u'v222')\n",
      "(u'k6', u'-2')\n",
      "(u'k5', u'0')\n",
      "(u'k4', u'2')\n",
      "<generator object hscan_iter at 0x10a825fa0>\n"
     ]
    }
   ],
   "source": [
    "for item in r.hscan_iter('hash1'):\n",
    "    print(item)\n",
    "print r.hscan_iter(\"hash1\")   # 生成器内存地址"
   ]
  },
  {
   "cell_type": "markdown",
   "metadata": {
    "pycharm": {
     "name": "#%% md\n"
    }
   },
   "source": [
    "# redis基本命令 list"
   ]
  },
  {
   "cell_type": "markdown",
   "metadata": {
    "pycharm": {
     "name": "#%% md\n"
    }
   },
   "source": [
    "## 1、增加（类似于list的append，只是这里是从左边新增加）--没有就新建\n",
    "lpush(name,values)  \n",
    "在name对应的list中添加元素，每个新的元素都添加到列表的最左边  \n",
    "\n",
    "\n",
    "如："
   ]
  },
  {
   "cell_type": "code",
   "execution_count": 131,
   "metadata": {
    "pycharm": {
     "name": "#%%\n"
    }
   },
   "outputs": [
    {
     "name": "stdout",
     "output_type": "stream",
     "text": [
      "[u'33', u'22', u'11', u'33']\n"
     ]
    }
   ],
   "source": [
    "import redis\n",
    "import time\n",
    "\n",
    "pool = redis.ConnectionPool(host='localhost', port=6379, decode_responses=True)\n",
    "r = redis.Redis(connection_pool=pool)\n",
    "\n",
    "r.lpush(\"list1\", 11, 22, 33)\n",
    "print r.lrange('list1', 0, -1)"
   ]
  },
  {
   "cell_type": "markdown",
   "metadata": {
    "pycharm": {
     "name": "#%% md\n"
    }
   },
   "source": [
    "保存顺序为: 33,22,11\n",
    "扩展："
   ]
  },
  {
   "cell_type": "code",
   "execution_count": 132,
   "metadata": {
    "pycharm": {
     "name": "#%%\n"
    }
   },
   "outputs": [
    {
     "name": "stdout",
     "output_type": "stream",
     "text": [
      "8\n",
      "[u'22', u'11', u'00', u'11']\n"
     ]
    }
   ],
   "source": [
    "r.rpush(\"list2\", 11, 22, 33)  # 表示从右向左操作\n",
    "print r.llen(\"list2\")  # 列表长度\n",
    "print r.lrange(\"list2\", 0, 3)  # 切片取出值，范围是索引号0-3"
   ]
  },
  {
   "cell_type": "markdown",
   "metadata": {
    "pycharm": {
     "name": "#%% md\n"
    }
   },
   "source": [
    "## 2、增加（从右边增加）--没有就新建"
   ]
  },
  {
   "cell_type": "code",
   "execution_count": 133,
   "metadata": {
    "pycharm": {
     "name": "#%%\n"
    }
   },
   "outputs": [
    {
     "name": "stdout",
     "output_type": "stream",
     "text": [
      "11\n",
      "[u'22', u'11', u'00', u'11', u'22', u'11', u'22', u'33', u'44', u'55', u'66']\n"
     ]
    }
   ],
   "source": [
    "r.rpush(\"list2\", 44, 55, 66)    # 在列表的右边，依次添加44,55,66\n",
    "print r.llen(\"list2\")  # 列表长度\n",
    "print r.lrange(\"list2\", 0, -1) # 切片取出值，范围是索引号0到-1(最后一个元素)"
   ]
  },
  {
   "cell_type": "markdown",
   "metadata": {
    "pycharm": {
     "name": "#%% md\n"
    }
   },
   "source": [
    "## 3.往已经有的name的列表的左边添加元素，没有的话无法创建\n",
    "lpushx(name,value)  \n",
    "在name对应的list中添加元素，只有name已经存在时，值添加到列表的最左边  \n",
    "更多：  "
   ]
  },
  {
   "cell_type": "code",
   "execution_count": 134,
   "metadata": {
    "pycharm": {
     "name": "#%%\n"
    }
   },
   "outputs": [
    {
     "name": "stdout",
     "output_type": "stream",
     "text": [
      "0\n",
      "[]\n",
      "12\n",
      "[u'77', u'22', u'11', u'00', u'11', u'22', u'11', u'22', u'33', u'44', u'55', u'66']\n"
     ]
    }
   ],
   "source": [
    "r.lpushx(\"list10\", 10)   # 这里list10不存在\n",
    "print r.llen(\"list10\")  # 0\n",
    "print r.lrange(\"list10\", 0, -1)  # []\n",
    "r.lpushx(\"list2\", 77)   # 这里\"list2\"之前已经存在，往列表最左边添加一个元素，一次只能添加一个\n",
    "print r.llen(\"list2\")  # 列表长度\n",
    "print r.lrange(\"list2\", 0, -1) # 切片取出值，范围是索引号0到-1(最后一个元素"
   ]
  },
  {
   "cell_type": "markdown",
   "metadata": {
    "pycharm": {
     "name": "#%% md\n"
    }
   },
   "source": [
    "## 4.往已经有的name的列表的右边添加元素，没有的话无法创建"
   ]
  },
  {
   "cell_type": "code",
   "execution_count": 135,
   "metadata": {
    "pycharm": {
     "name": "#%%\n"
    }
   },
   "outputs": [
    {
     "name": "stdout",
     "output_type": "stream",
     "text": [
      "13\n",
      "[u'77', u'22', u'11', u'00', u'11', u'22', u'11', u'22', u'33', u'44', u'55', u'66', u'99']\n"
     ]
    }
   ],
   "source": [
    "r.rpushx(\"list2\", 99)   # 这里\"foo_list1\"之前已经存在，往列表最右边添加一个元素，一次只能添加一个\n",
    "print r.llen(\"list2\")  # 列表长度\n",
    "print r.lrange(\"list2\", 0, -1) # 切片取出值，范围是索引号0到-1(最后一个元素)"
   ]
  },
  {
   "cell_type": "markdown",
   "metadata": {
    "pycharm": {
     "name": "#%% md\n"
    }
   },
   "source": [
    "## 5.新增（固定索引号位置插入元素）\n",
    "linsert(name, where, refvalue, value))  \n",
    "在name对应的列表的某一个值前或后插入一个新值  \n",
    "参数：  \n",
    "- name - redis的name\n",
    "- where - BEFORE或AFTER\n",
    "- refvalue - 标杆值，即：在它前后插入数据\n",
    "\n",
    "\n",
    "value - 要插入的数据"
   ]
  },
  {
   "cell_type": "code",
   "execution_count": 136,
   "metadata": {
    "pycharm": {
     "name": "#%%\n"
    }
   },
   "outputs": [
    {
     "name": "stdout",
     "output_type": "stream",
     "text": [
      "[u'77', u'22', u'00', u'11', u'00', u'11', u'22', u'11', u'22', u'33', u'44', u'55', u'66', u'99']\n"
     ]
    }
   ],
   "source": [
    "r.linsert(\"list2\", \"before\", \"11\", \"00\")   # 往列表中左边第一个出现的元素\"11\"前插入元素\"00\"\n",
    "print r.lrange(\"list2\", 0, -1)   # 切片取出值，范围是索引号0-最后一个元素"
   ]
  },
  {
   "cell_type": "markdown",
   "metadata": {
    "pycharm": {
     "name": "#%% md\n"
    }
   },
   "source": [
    "## 6.修改（指定索引号进行修改）\n",
    "r.lset(name, index, value)  \n",
    "对name对应的list中的某一个索引位置重新赋值  \n",
    "参数：  \n",
    "- name - redis的name\n",
    "- index - list的索引位置\n",
    "- value - 要设置的值"
   ]
  },
  {
   "cell_type": "code",
   "execution_count": 100,
   "metadata": {
    "pycharm": {
     "name": "#%%\n"
    }
   },
   "outputs": [
    {
     "name": "stdout",
     "output_type": "stream",
     "text": [
      "[u'-11', u'00', u'11', u'22', u'33', u'44', u'55', u'66', u'99']\n"
     ]
    }
   ],
   "source": [
    "r.lset(\"list2\", 0, -11)    # 把索引号是0的元素修改成-11\n",
    "print r.lrange(\"list2\", 0, -1)"
   ]
  },
  {
   "cell_type": "markdown",
   "metadata": {
    "pycharm": {
     "name": "#%% md\n"
    }
   },
   "source": [
    "## 7.删除（指定值进行删除）\n",
    "r.lrem(name, value, num)  \n",
    "在name对应的list中删除指定的值  \n",
    "参数：  \n",
    "- name - redis的name  \n",
    "- value - 要删除的值  \n",
    "- num - num=0，删除列表中所有的指定值；  \n",
    "- num=2 - 从前到后，删除2个, num=1,从前到后，删除左边第1个  \n",
    "- num=-2 - 从后向前，删除2个  "
   ]
  },
  {
   "cell_type": "code",
   "execution_count": 142,
   "metadata": {
    "pycharm": {
     "name": "#%%\n"
    }
   },
   "outputs": [
    {
     "name": "stdout",
     "output_type": "stream",
     "text": [
      "[u'22', u'00', u'11', u'00', u'11', u'22', u'11', u'22', u'33', u'44', u'55', u'66']\n",
      "[u'22', u'00', u'11', u'00', u'11', u'22', u'11', u'22', u'33', u'44', u'55', u'66']\n",
      "[u'22', u'00', u'11', u'00', u'11', u'22', u'11', u'22', u'33', u'44', u'55', u'66']\n"
     ]
    }
   ],
   "source": [
    "r.lrem(\"list2\", \"11\", 1)    # 将列表中左边第一次出现的\"11\"删除\n",
    "print r.lrange(\"list2\", 0, -1)\n",
    "r.lrem(\"list2\", \"99\", -1)    # 将列表中右边第一次出现的\"99\"删除\n",
    "print r.lrange(\"list2\", 0, -1)\n",
    "r.lrem(\"list2\", \"22\", 0)    # 将列表中所有的\"22\"删除\n",
    "print r.lrange(\"list2\", 0, -1)"
   ]
  },
  {
   "cell_type": "markdown",
   "metadata": {
    "pycharm": {
     "name": "#%% md\n"
    }
   },
   "source": [
    "## 8.删除并返回\n",
    "lpop(name)  \n",
    "在name对应的列表的左侧获取第一个元素并在列表中移除，返回值则是第一个元素  \n",
    "更多：  \n",
    "rpop(name) 表示从右向左操作  "
   ]
  },
  {
   "cell_type": "code",
   "execution_count": 144,
   "metadata": {
    "pycharm": {
     "name": "#%%\n"
    }
   },
   "outputs": [
    {
     "name": "stdout",
     "output_type": "stream",
     "text": [
      "00\n",
      "[u'11', u'00', u'11', u'22', u'11', u'22', u'33', u'44', u'55']\n",
      "[u'11', u'00', u'11', u'22', u'11', u'22', u'33', u'44']\n"
     ]
    }
   ],
   "source": [
    "print r.lpop(\"list2\")    # 删除列表最左边的元素，并且返回删除的元素\n",
    "print r.lrange(\"list2\", 0, -1)\n",
    "r.rpop(\"list2\")    # 删除列表最右边的元素，并且返回删除的元素\n",
    "print r.lrange(\"list2\", 0, -1)"
   ]
  },
  {
   "cell_type": "markdown",
   "metadata": {
    "pycharm": {
     "name": "#%% md\n"
    }
   },
   "source": [
    "## 9.删除索引之外的值\n",
    "ltrim(name, start, end)  \n",
    "在name对应的列表中移除没有在start-end索引之间的值  \n",
    "参数：  \n",
    "- name - redis的name  \n",
    "- start - 索引的起始位置  \n",
    "- end - 索引结束位置"
   ]
  },
  {
   "cell_type": "code",
   "execution_count": 145,
   "metadata": {
    "pycharm": {
     "name": "#%%\n"
    }
   },
   "outputs": [
    {
     "name": "stdout",
     "output_type": "stream",
     "text": [
      "[u'11', u'00', u'11']\n"
     ]
    }
   ],
   "source": [
    "r.ltrim(\"list2\", 0, 2)    # 删除索引号是0-2之外的元素，只保留索引号是0-2的元素\n",
    "print r.lrange(\"list2\", 0, -1)"
   ]
  },
  {
   "cell_type": "markdown",
   "metadata": {
    "pycharm": {
     "name": "#%% md\n"
    }
   },
   "source": [
    "## 10.取值（根据索引号取值）\n",
    "lindex(name, index)  \n",
    "在name对应的列表中根据索引获取列表元素  "
   ]
  },
  {
   "cell_type": "code",
   "execution_count": 105,
   "metadata": {
    "pycharm": {
     "name": "#%%\n"
    }
   },
   "outputs": [
    {
     "name": "stdout",
     "output_type": "stream",
     "text": [
      "00\n"
     ]
    }
   ],
   "source": [
    "print r.lindex(\"list2\", 0)  # 取出索引号是0的值"
   ]
  },
  {
   "cell_type": "markdown",
   "metadata": {
    "pycharm": {
     "name": "#%% md\n"
    }
   },
   "source": [
    "## 11.移动 元素从一个列表移动到另外一个列表\n",
    "rpoplpush(src, dst)  \n",
    "从一个列表取出最右边的元素，同时将其添加至另一个列表的最左边  \n",
    "参数：  \n",
    "- src - 要取数据的列表的 name\n",
    "- dst - 要添加数据的列表的 name"
   ]
  },
  {
   "cell_type": "code",
   "execution_count": 106,
   "metadata": {
    "pycharm": {
     "name": "#%%\n"
    }
   },
   "outputs": [
    {
     "name": "stdout",
     "output_type": "stream",
     "text": [
      "[u'11', u'00', u'11', u'22']\n"
     ]
    }
   ],
   "source": [
    "r.rpoplpush(\"list1\", \"list2\")\n",
    "print r.lrange(\"list2\", 0, -1)"
   ]
  },
  {
   "cell_type": "markdown",
   "metadata": {
    "pycharm": {
     "name": "#%% md\n"
    }
   },
   "source": [
    "## 12.移动 元素从一个列表移动到另外一个列表 可以设置超时\n",
    "brpoplpush(src, dst, timeout=0)  \n",
    "从一个列表的右侧移除一个元素并将其添加到另一个列表的左侧  \n",
    "参数：  \n",
    "- src - 取出并要移除元素的列表对应的name  \n",
    "- dst - 要插入元素的列表对应的name\n",
    "- timeout - 当src对应的列表中没有数据时，阻塞等待其有数据的超时时间（秒），0 表示永远阻塞"
   ]
  },
  {
   "cell_type": "code",
   "execution_count": 107,
   "metadata": {
    "pycharm": {
     "name": "#%%\n"
    }
   },
   "outputs": [
    {
     "name": "stdout",
     "output_type": "stream",
     "text": [
      "[u'22', u'11', u'00', u'11', u'22']\n"
     ]
    }
   ],
   "source": [
    "r.brpoplpush(\"list1\", \"list2\", timeout=2)\n",
    "print r.lrange(\"list2\", 0, -1)"
   ]
  },
  {
   "cell_type": "markdown",
   "metadata": {
    "collapsed": true,
    "pycharm": {
     "name": "#%% md\n"
    }
   },
   "source": [
    "## 13.一次移除多个列表\n",
    "blpop(keys, timeout)  \n",
    "将多个列表排列，按照从左到右去pop对应列表的元素  \n",
    "参数：  \n",
    "keys - redis的name的集合  \n",
    "timeout - 超时时间，当元素所有列表的元素获取完之后，阻塞等待列表内有数据的时间（秒）, 0 表示永远阻塞  \n",
    "更多：  \n",
    "r.brpop(keys, timeout) 同 blpop，将多个列表排列,按照从右像左去移除各个列表内的元素"
   ]
  },
  {
   "cell_type": "code",
   "execution_count": 4,
   "metadata": {
    "pycharm": {
     "name": "#%%\n"
    }
   },
   "outputs": [
    {
     "name": "stdout",
     "output_type": "stream",
     "text": [
      "[u'4', u'3', u'4', u'3'] [u'5', u'4', u'3', u'5', u'4', u'3']\n",
      "[u'3', u'4', u'3'] [u'5', u'4', u'3', u'5', u'4', u'3']\n",
      "[u'4', u'3'] [u'5', u'4', u'3', u'5', u'4', u'3']\n",
      "[u'3'] [u'5', u'4', u'3', u'5', u'4', u'3']\n",
      "[] [u'5', u'4', u'3', u'5', u'4', u'3']\n",
      "[] [u'4', u'3', u'5', u'4', u'3']\n",
      "[] [u'3', u'5', u'4', u'3']\n",
      "[] [u'5', u'4', u'3']\n",
      "[] [u'4', u'3']\n",
      "[] [u'3']\n",
      "[] []\n",
      "[] []\n",
      "[] []\n",
      "[] []\n",
      "[] []\n",
      "[] []\n"
     ]
    },
    {
     "ename": "KeyboardInterrupt",
     "evalue": "",
     "output_type": "error",
     "traceback": [
      "\u001B[0;31m---------------------------------------------------------------------------\u001B[0m",
      "\u001B[0;31mKeyboardInterrupt\u001B[0m                         Traceback (most recent call last)",
      "\u001B[0;32m<ipython-input-4-b94ba7481142>\u001B[0m in \u001B[0;36m<module>\u001B[0;34m()\u001B[0m\n\u001B[1;32m      5\u001B[0m \u001B[0mr\u001B[0m\u001B[0;34m.\u001B[0m\u001B[0mlpush\u001B[0m\u001B[0;34m(\u001B[0m\u001B[0;34m\"list11\"\u001B[0m\u001B[0;34m,\u001B[0m \u001B[0;36m3\u001B[0m\u001B[0;34m,\u001B[0m \u001B[0;36m4\u001B[0m\u001B[0;34m,\u001B[0m \u001B[0;36m5\u001B[0m\u001B[0;34m)\u001B[0m\u001B[0;34m\u001B[0m\u001B[0m\n\u001B[1;32m      6\u001B[0m \u001B[0;32mwhile\u001B[0m \u001B[0mTrue\u001B[0m\u001B[0;34m:\u001B[0m\u001B[0;34m\u001B[0m\u001B[0m\n\u001B[0;32m----> 7\u001B[0;31m     \u001B[0mr\u001B[0m\u001B[0;34m.\u001B[0m\u001B[0mblpop\u001B[0m\u001B[0;34m(\u001B[0m\u001B[0;34m[\u001B[0m\u001B[0;34m\"list10\"\u001B[0m\u001B[0;34m,\u001B[0m \u001B[0;34m\"list11\"\u001B[0m\u001B[0;34m]\u001B[0m\u001B[0;34m,\u001B[0m \u001B[0mtimeout\u001B[0m\u001B[0;34m=\u001B[0m\u001B[0;36m2\u001B[0m\u001B[0;34m)\u001B[0m\u001B[0;34m\u001B[0m\u001B[0m\n\u001B[0m\u001B[1;32m      8\u001B[0m     \u001B[0;32mprint\u001B[0m \u001B[0mr\u001B[0m\u001B[0;34m.\u001B[0m\u001B[0mlrange\u001B[0m\u001B[0;34m(\u001B[0m\u001B[0;34m\"list10\"\u001B[0m\u001B[0;34m,\u001B[0m \u001B[0;36m0\u001B[0m\u001B[0;34m,\u001B[0m \u001B[0;34m-\u001B[0m\u001B[0;36m1\u001B[0m\u001B[0;34m)\u001B[0m\u001B[0;34m,\u001B[0m \u001B[0mr\u001B[0m\u001B[0;34m.\u001B[0m\u001B[0mlrange\u001B[0m\u001B[0;34m(\u001B[0m\u001B[0;34m\"list11\"\u001B[0m\u001B[0;34m,\u001B[0m \u001B[0;36m0\u001B[0m\u001B[0;34m,\u001B[0m \u001B[0;34m-\u001B[0m\u001B[0;36m1\u001B[0m\u001B[0;34m)\u001B[0m\u001B[0;34m\u001B[0m\u001B[0m\n",
      "\u001B[0;32m/opt/anaconda3/envs/python2/lib/python2.7/site-packages/redis/client.pyc\u001B[0m in \u001B[0;36mblpop\u001B[0;34m(self, keys, timeout)\u001B[0m\n\u001B[1;32m   1898\u001B[0m         \u001B[0mkeys\u001B[0m \u001B[0;34m=\u001B[0m \u001B[0mlist_or_args\u001B[0m\u001B[0;34m(\u001B[0m\u001B[0mkeys\u001B[0m\u001B[0;34m,\u001B[0m \u001B[0mNone\u001B[0m\u001B[0;34m)\u001B[0m\u001B[0;34m\u001B[0m\u001B[0m\n\u001B[1;32m   1899\u001B[0m         \u001B[0mkeys\u001B[0m\u001B[0;34m.\u001B[0m\u001B[0mappend\u001B[0m\u001B[0;34m(\u001B[0m\u001B[0mtimeout\u001B[0m\u001B[0;34m)\u001B[0m\u001B[0;34m\u001B[0m\u001B[0m\n\u001B[0;32m-> 1900\u001B[0;31m         \u001B[0;32mreturn\u001B[0m \u001B[0mself\u001B[0m\u001B[0;34m.\u001B[0m\u001B[0mexecute_command\u001B[0m\u001B[0;34m(\u001B[0m\u001B[0;34m'BLPOP'\u001B[0m\u001B[0;34m,\u001B[0m \u001B[0;34m*\u001B[0m\u001B[0mkeys\u001B[0m\u001B[0;34m)\u001B[0m\u001B[0;34m\u001B[0m\u001B[0m\n\u001B[0m\u001B[1;32m   1901\u001B[0m \u001B[0;34m\u001B[0m\u001B[0m\n\u001B[1;32m   1902\u001B[0m     \u001B[0;32mdef\u001B[0m \u001B[0mbrpop\u001B[0m\u001B[0;34m(\u001B[0m\u001B[0mself\u001B[0m\u001B[0;34m,\u001B[0m \u001B[0mkeys\u001B[0m\u001B[0;34m,\u001B[0m \u001B[0mtimeout\u001B[0m\u001B[0;34m=\u001B[0m\u001B[0;36m0\u001B[0m\u001B[0;34m)\u001B[0m\u001B[0;34m:\u001B[0m\u001B[0;34m\u001B[0m\u001B[0m\n",
      "\u001B[0;32m/opt/anaconda3/envs/python2/lib/python2.7/site-packages/redis/client.pyc\u001B[0m in \u001B[0;36mexecute_command\u001B[0;34m(self, *args, **options)\u001B[0m\n\u001B[1;32m    899\u001B[0m         \u001B[0;32mtry\u001B[0m\u001B[0;34m:\u001B[0m\u001B[0;34m\u001B[0m\u001B[0m\n\u001B[1;32m    900\u001B[0m             \u001B[0mconn\u001B[0m\u001B[0;34m.\u001B[0m\u001B[0msend_command\u001B[0m\u001B[0;34m(\u001B[0m\u001B[0;34m*\u001B[0m\u001B[0margs\u001B[0m\u001B[0;34m)\u001B[0m\u001B[0;34m\u001B[0m\u001B[0m\n\u001B[0;32m--> 901\u001B[0;31m             \u001B[0;32mreturn\u001B[0m \u001B[0mself\u001B[0m\u001B[0;34m.\u001B[0m\u001B[0mparse_response\u001B[0m\u001B[0;34m(\u001B[0m\u001B[0mconn\u001B[0m\u001B[0;34m,\u001B[0m \u001B[0mcommand_name\u001B[0m\u001B[0;34m,\u001B[0m \u001B[0;34m**\u001B[0m\u001B[0moptions\u001B[0m\u001B[0;34m)\u001B[0m\u001B[0;34m\u001B[0m\u001B[0m\n\u001B[0m\u001B[1;32m    902\u001B[0m         \u001B[0;32mexcept\u001B[0m \u001B[0;34m(\u001B[0m\u001B[0mConnectionError\u001B[0m\u001B[0;34m,\u001B[0m \u001B[0mTimeoutError\u001B[0m\u001B[0;34m)\u001B[0m \u001B[0;32mas\u001B[0m \u001B[0me\u001B[0m\u001B[0;34m:\u001B[0m\u001B[0;34m\u001B[0m\u001B[0m\n\u001B[1;32m    903\u001B[0m             \u001B[0mconn\u001B[0m\u001B[0;34m.\u001B[0m\u001B[0mdisconnect\u001B[0m\u001B[0;34m(\u001B[0m\u001B[0;34m)\u001B[0m\u001B[0;34m\u001B[0m\u001B[0m\n",
      "\u001B[0;32m/opt/anaconda3/envs/python2/lib/python2.7/site-packages/redis/client.pyc\u001B[0m in \u001B[0;36mparse_response\u001B[0;34m(self, connection, command_name, **options)\u001B[0m\n\u001B[1;32m    913\u001B[0m         \u001B[0;34m\"Parses a response from the Redis server\"\u001B[0m\u001B[0;34m\u001B[0m\u001B[0m\n\u001B[1;32m    914\u001B[0m         \u001B[0;32mtry\u001B[0m\u001B[0;34m:\u001B[0m\u001B[0;34m\u001B[0m\u001B[0m\n\u001B[0;32m--> 915\u001B[0;31m             \u001B[0mresponse\u001B[0m \u001B[0;34m=\u001B[0m \u001B[0mconnection\u001B[0m\u001B[0;34m.\u001B[0m\u001B[0mread_response\u001B[0m\u001B[0;34m(\u001B[0m\u001B[0;34m)\u001B[0m\u001B[0;34m\u001B[0m\u001B[0m\n\u001B[0m\u001B[1;32m    916\u001B[0m         \u001B[0;32mexcept\u001B[0m \u001B[0mResponseError\u001B[0m\u001B[0;34m:\u001B[0m\u001B[0;34m\u001B[0m\u001B[0m\n\u001B[1;32m    917\u001B[0m             \u001B[0;32mif\u001B[0m \u001B[0mEMPTY_RESPONSE\u001B[0m \u001B[0;32min\u001B[0m \u001B[0moptions\u001B[0m\u001B[0;34m:\u001B[0m\u001B[0;34m\u001B[0m\u001B[0m\n",
      "\u001B[0;32m/opt/anaconda3/envs/python2/lib/python2.7/site-packages/redis/connection.pyc\u001B[0m in \u001B[0;36mread_response\u001B[0;34m(self)\u001B[0m\n\u001B[1;32m    737\u001B[0m         \u001B[0;34m\"Read the response from a previously sent command\"\u001B[0m\u001B[0;34m\u001B[0m\u001B[0m\n\u001B[1;32m    738\u001B[0m         \u001B[0;32mtry\u001B[0m\u001B[0;34m:\u001B[0m\u001B[0;34m\u001B[0m\u001B[0m\n\u001B[0;32m--> 739\u001B[0;31m             \u001B[0mresponse\u001B[0m \u001B[0;34m=\u001B[0m \u001B[0mself\u001B[0m\u001B[0;34m.\u001B[0m\u001B[0m_parser\u001B[0m\u001B[0;34m.\u001B[0m\u001B[0mread_response\u001B[0m\u001B[0;34m(\u001B[0m\u001B[0;34m)\u001B[0m\u001B[0;34m\u001B[0m\u001B[0m\n\u001B[0m\u001B[1;32m    740\u001B[0m         \u001B[0;32mexcept\u001B[0m \u001B[0msocket\u001B[0m\u001B[0;34m.\u001B[0m\u001B[0mtimeout\u001B[0m\u001B[0;34m:\u001B[0m\u001B[0;34m\u001B[0m\u001B[0m\n\u001B[1;32m    741\u001B[0m             \u001B[0mself\u001B[0m\u001B[0;34m.\u001B[0m\u001B[0mdisconnect\u001B[0m\u001B[0;34m(\u001B[0m\u001B[0;34m)\u001B[0m\u001B[0;34m\u001B[0m\u001B[0m\n",
      "\u001B[0;32m/opt/anaconda3/envs/python2/lib/python2.7/site-packages/redis/connection.pyc\u001B[0m in \u001B[0;36mread_response\u001B[0;34m(self)\u001B[0m\n\u001B[1;32m    322\u001B[0m \u001B[0;34m\u001B[0m\u001B[0m\n\u001B[1;32m    323\u001B[0m     \u001B[0;32mdef\u001B[0m \u001B[0mread_response\u001B[0m\u001B[0;34m(\u001B[0m\u001B[0mself\u001B[0m\u001B[0;34m)\u001B[0m\u001B[0;34m:\u001B[0m\u001B[0;34m\u001B[0m\u001B[0m\n\u001B[0;32m--> 324\u001B[0;31m         \u001B[0mraw\u001B[0m \u001B[0;34m=\u001B[0m \u001B[0mself\u001B[0m\u001B[0;34m.\u001B[0m\u001B[0m_buffer\u001B[0m\u001B[0;34m.\u001B[0m\u001B[0mreadline\u001B[0m\u001B[0;34m(\u001B[0m\u001B[0;34m)\u001B[0m\u001B[0;34m\u001B[0m\u001B[0m\n\u001B[0m\u001B[1;32m    325\u001B[0m         \u001B[0;32mif\u001B[0m \u001B[0;32mnot\u001B[0m \u001B[0mraw\u001B[0m\u001B[0;34m:\u001B[0m\u001B[0;34m\u001B[0m\u001B[0m\n\u001B[1;32m    326\u001B[0m             \u001B[0;32mraise\u001B[0m \u001B[0mConnectionError\u001B[0m\u001B[0;34m(\u001B[0m\u001B[0mSERVER_CLOSED_CONNECTION_ERROR\u001B[0m\u001B[0;34m)\u001B[0m\u001B[0;34m\u001B[0m\u001B[0m\n",
      "\u001B[0;32m/opt/anaconda3/envs/python2/lib/python2.7/site-packages/redis/connection.pyc\u001B[0m in \u001B[0;36mreadline\u001B[0;34m(self)\u001B[0m\n\u001B[1;32m    254\u001B[0m         \u001B[0;32mwhile\u001B[0m \u001B[0;32mnot\u001B[0m \u001B[0mdata\u001B[0m\u001B[0;34m.\u001B[0m\u001B[0mendswith\u001B[0m\u001B[0;34m(\u001B[0m\u001B[0mSYM_CRLF\u001B[0m\u001B[0;34m)\u001B[0m\u001B[0;34m:\u001B[0m\u001B[0;34m\u001B[0m\u001B[0m\n\u001B[1;32m    255\u001B[0m             \u001B[0;31m# there's more data in the socket that we need\u001B[0m\u001B[0;34m\u001B[0m\u001B[0;34m\u001B[0m\u001B[0m\n\u001B[0;32m--> 256\u001B[0;31m             \u001B[0mself\u001B[0m\u001B[0;34m.\u001B[0m\u001B[0m_read_from_socket\u001B[0m\u001B[0;34m(\u001B[0m\u001B[0;34m)\u001B[0m\u001B[0;34m\u001B[0m\u001B[0m\n\u001B[0m\u001B[1;32m    257\u001B[0m             \u001B[0mbuf\u001B[0m\u001B[0;34m.\u001B[0m\u001B[0mseek\u001B[0m\u001B[0;34m(\u001B[0m\u001B[0mself\u001B[0m\u001B[0;34m.\u001B[0m\u001B[0mbytes_read\u001B[0m\u001B[0;34m)\u001B[0m\u001B[0;34m\u001B[0m\u001B[0m\n\u001B[1;32m    258\u001B[0m             \u001B[0mdata\u001B[0m \u001B[0;34m=\u001B[0m \u001B[0mbuf\u001B[0m\u001B[0;34m.\u001B[0m\u001B[0mreadline\u001B[0m\u001B[0;34m(\u001B[0m\u001B[0;34m)\u001B[0m\u001B[0;34m\u001B[0m\u001B[0m\n",
      "\u001B[0;32m/opt/anaconda3/envs/python2/lib/python2.7/site-packages/redis/connection.pyc\u001B[0m in \u001B[0;36m_read_from_socket\u001B[0;34m(self, length, timeout, raise_on_timeout)\u001B[0m\n\u001B[1;32m    196\u001B[0m                 \u001B[0msock\u001B[0m\u001B[0;34m.\u001B[0m\u001B[0msettimeout\u001B[0m\u001B[0;34m(\u001B[0m\u001B[0mtimeout\u001B[0m\u001B[0;34m)\u001B[0m\u001B[0;34m\u001B[0m\u001B[0m\n\u001B[1;32m    197\u001B[0m             \u001B[0;32mwhile\u001B[0m \u001B[0mTrue\u001B[0m\u001B[0;34m:\u001B[0m\u001B[0;34m\u001B[0m\u001B[0m\n\u001B[0;32m--> 198\u001B[0;31m                 \u001B[0mdata\u001B[0m \u001B[0;34m=\u001B[0m \u001B[0mrecv\u001B[0m\u001B[0;34m(\u001B[0m\u001B[0mself\u001B[0m\u001B[0;34m.\u001B[0m\u001B[0m_sock\u001B[0m\u001B[0;34m,\u001B[0m \u001B[0msocket_read_size\u001B[0m\u001B[0;34m)\u001B[0m\u001B[0;34m\u001B[0m\u001B[0m\n\u001B[0m\u001B[1;32m    199\u001B[0m                 \u001B[0;31m# an empty string indicates the server shutdown the socket\u001B[0m\u001B[0;34m\u001B[0m\u001B[0;34m\u001B[0m\u001B[0m\n\u001B[1;32m    200\u001B[0m                 \u001B[0;32mif\u001B[0m \u001B[0misinstance\u001B[0m\u001B[0;34m(\u001B[0m\u001B[0mdata\u001B[0m\u001B[0;34m,\u001B[0m \u001B[0mbytes\u001B[0m\u001B[0;34m)\u001B[0m \u001B[0;32mand\u001B[0m \u001B[0mlen\u001B[0m\u001B[0;34m(\u001B[0m\u001B[0mdata\u001B[0m\u001B[0;34m)\u001B[0m \u001B[0;34m==\u001B[0m \u001B[0;36m0\u001B[0m\u001B[0;34m:\u001B[0m\u001B[0;34m\u001B[0m\u001B[0m\n",
      "\u001B[0;32m/opt/anaconda3/envs/python2/lib/python2.7/site-packages/redis/_compat.pyc\u001B[0m in \u001B[0;36mwrapper\u001B[0;34m(*args, **kwargs)\u001B[0m\n\u001B[1;32m     98\u001B[0m         \u001B[0;32mdef\u001B[0m \u001B[0mwrapper\u001B[0m\u001B[0;34m(\u001B[0m\u001B[0;34m*\u001B[0m\u001B[0margs\u001B[0m\u001B[0;34m,\u001B[0m \u001B[0;34m**\u001B[0m\u001B[0mkwargs\u001B[0m\u001B[0;34m)\u001B[0m\u001B[0;34m:\u001B[0m\u001B[0;34m\u001B[0m\u001B[0m\n\u001B[1;32m     99\u001B[0m             \u001B[0;32mtry\u001B[0m\u001B[0;34m:\u001B[0m\u001B[0;34m\u001B[0m\u001B[0m\n\u001B[0;32m--> 100\u001B[0;31m                 \u001B[0;32mreturn\u001B[0m \u001B[0mfunc\u001B[0m\u001B[0;34m(\u001B[0m\u001B[0;34m*\u001B[0m\u001B[0margs\u001B[0m\u001B[0;34m,\u001B[0m \u001B[0;34m**\u001B[0m\u001B[0mkwargs\u001B[0m\u001B[0;34m)\u001B[0m\u001B[0;34m\u001B[0m\u001B[0m\n\u001B[0m\u001B[1;32m    101\u001B[0m             \u001B[0;32mexcept\u001B[0m \u001B[0m_SSLError\u001B[0m \u001B[0;32mas\u001B[0m \u001B[0me\u001B[0m\u001B[0;34m:\u001B[0m\u001B[0;34m\u001B[0m\u001B[0m\n\u001B[1;32m    102\u001B[0m                 \u001B[0mmessage\u001B[0m \u001B[0;34m=\u001B[0m \u001B[0mlen\u001B[0m\u001B[0;34m(\u001B[0m\u001B[0me\u001B[0m\u001B[0;34m.\u001B[0m\u001B[0margs\u001B[0m\u001B[0;34m)\u001B[0m \u001B[0;34m==\u001B[0m \u001B[0;36m1\u001B[0m \u001B[0;32mand\u001B[0m \u001B[0municode\u001B[0m\u001B[0;34m(\u001B[0m\u001B[0me\u001B[0m\u001B[0;34m.\u001B[0m\u001B[0margs\u001B[0m\u001B[0;34m[\u001B[0m\u001B[0;36m0\u001B[0m\u001B[0;34m]\u001B[0m\u001B[0;34m)\u001B[0m \u001B[0;32mor\u001B[0m \u001B[0;34m''\u001B[0m\u001B[0;34m\u001B[0m\u001B[0m\n",
      "\u001B[0;32m/opt/anaconda3/envs/python2/lib/python2.7/site-packages/redis/_compat.pyc\u001B[0m in \u001B[0;36mrecv\u001B[0;34m(sock, *args, **kwargs)\u001B[0m\n\u001B[1;32m     63\u001B[0m \u001B[0;34m\u001B[0m\u001B[0m\n\u001B[1;32m     64\u001B[0m     \u001B[0;32mdef\u001B[0m \u001B[0mrecv\u001B[0m\u001B[0;34m(\u001B[0m\u001B[0msock\u001B[0m\u001B[0;34m,\u001B[0m \u001B[0;34m*\u001B[0m\u001B[0margs\u001B[0m\u001B[0;34m,\u001B[0m \u001B[0;34m**\u001B[0m\u001B[0mkwargs\u001B[0m\u001B[0;34m)\u001B[0m\u001B[0;34m:\u001B[0m\u001B[0;34m\u001B[0m\u001B[0m\n\u001B[0;32m---> 65\u001B[0;31m         \u001B[0;32mreturn\u001B[0m \u001B[0m_retryable_call\u001B[0m\u001B[0;34m(\u001B[0m\u001B[0msock\u001B[0m\u001B[0;34m,\u001B[0m \u001B[0msock\u001B[0m\u001B[0;34m.\u001B[0m\u001B[0mrecv\u001B[0m\u001B[0;34m,\u001B[0m \u001B[0;34m*\u001B[0m\u001B[0margs\u001B[0m\u001B[0;34m,\u001B[0m \u001B[0;34m**\u001B[0m\u001B[0mkwargs\u001B[0m\u001B[0;34m)\u001B[0m\u001B[0;34m\u001B[0m\u001B[0m\n\u001B[0m\u001B[1;32m     66\u001B[0m \u001B[0;34m\u001B[0m\u001B[0m\n\u001B[1;32m     67\u001B[0m     \u001B[0;32mdef\u001B[0m \u001B[0mrecv_into\u001B[0m\u001B[0;34m(\u001B[0m\u001B[0msock\u001B[0m\u001B[0;34m,\u001B[0m \u001B[0;34m*\u001B[0m\u001B[0margs\u001B[0m\u001B[0;34m,\u001B[0m \u001B[0;34m**\u001B[0m\u001B[0mkwargs\u001B[0m\u001B[0;34m)\u001B[0m\u001B[0;34m:\u001B[0m\u001B[0;34m\u001B[0m\u001B[0m\n",
      "\u001B[0;32m/opt/anaconda3/envs/python2/lib/python2.7/site-packages/redis/_compat.pyc\u001B[0m in \u001B[0;36m_retryable_call\u001B[0;34m(s, func, *args, **kwargs)\u001B[0m\n\u001B[1;32m     51\u001B[0m                 \u001B[0;32mtry\u001B[0m\u001B[0;34m:\u001B[0m\u001B[0;34m\u001B[0m\u001B[0m\n\u001B[1;32m     52\u001B[0m                     \u001B[0mattempted\u001B[0m \u001B[0;34m=\u001B[0m \u001B[0mTrue\u001B[0m\u001B[0;34m\u001B[0m\u001B[0m\n\u001B[0;32m---> 53\u001B[0;31m                     \u001B[0;32mreturn\u001B[0m \u001B[0mfunc\u001B[0m\u001B[0;34m(\u001B[0m\u001B[0;34m*\u001B[0m\u001B[0margs\u001B[0m\u001B[0;34m,\u001B[0m \u001B[0;34m**\u001B[0m\u001B[0mkwargs\u001B[0m\u001B[0;34m)\u001B[0m\u001B[0;34m\u001B[0m\u001B[0m\n\u001B[0m\u001B[1;32m     54\u001B[0m                 \u001B[0;32mexcept\u001B[0m \u001B[0msocket\u001B[0m\u001B[0;34m.\u001B[0m\u001B[0merror\u001B[0m \u001B[0;32mas\u001B[0m \u001B[0me\u001B[0m\u001B[0;34m:\u001B[0m\u001B[0;34m\u001B[0m\u001B[0m\n\u001B[1;32m     55\u001B[0m                     \u001B[0;32mif\u001B[0m \u001B[0me\u001B[0m\u001B[0;34m.\u001B[0m\u001B[0margs\u001B[0m\u001B[0;34m[\u001B[0m\u001B[0;36m0\u001B[0m\u001B[0;34m]\u001B[0m \u001B[0;34m==\u001B[0m \u001B[0merrno\u001B[0m\u001B[0;34m.\u001B[0m\u001B[0mEINTR\u001B[0m\u001B[0;34m:\u001B[0m\u001B[0;34m\u001B[0m\u001B[0m\n",
      "\u001B[0;31mKeyboardInterrupt\u001B[0m: "
     ]
    }
   ],
   "source": [
    "import redis\n",
    "pool = redis.ConnectionPool(host='localhost', port=6379, decode_responses=True)\n",
    "r = redis.Redis(host='localhost', port=6379, decode_responses=True)\n",
    "r.lpush(\"list10\", 3, 4, 5)\n",
    "r.lpush(\"list11\", 3, 4, 5)\n",
    "while True:\n",
    "    r.blpop([\"list10\", \"list11\"], timeout=2)\n",
    "    print r.lrange(\"list10\", 0, -1), r.lrange(\"list11\", 0, -1)"
   ]
  },
  {
   "cell_type": "markdown",
   "metadata": {
    "pycharm": {
     "name": "#%% md\n"
    }
   },
   "source": [
    "## 14.自定义增量迭代\n",
    "由于redis类库中没有提供对列表元素的增量迭代，如果想要循环name对应的列表的所有元素，那么就需要获取name对应的所有列表。\n",
    "循环列表  \n",
    "但是，如果列表非常大，那么就有可能在第一步时就将程序的内容撑爆，所有有必要自定义一个增量迭代的功能："
   ]
  },
  {
   "cell_type": "code",
   "execution_count": 6,
   "metadata": {
    "pycharm": {
     "name": "#%%\n"
    }
   },
   "outputs": [
    {
     "name": "stdout",
     "output_type": "stream",
     "text": [
      "22\n",
      "11\n",
      "00\n",
      "11\n",
      "22\n"
     ]
    }
   ],
   "source": [
    "def list_iter(name):\n",
    "    \"\"\"\n",
    "    自定义redis列表增量迭代\n",
    "    :param name: redis中的name，即：迭代name对应的列表\n",
    "    :return: yield 返回 列表元素\n",
    "    \"\"\"\n",
    "    list_count = r.llen(name)\n",
    "    for index in range(list_count):\n",
    "        yield r.lindex(name, index)\n",
    "\n",
    "# 使用\n",
    "for item in list_iter('list2'): # 遍历这个列表\n",
    "    print item"
   ]
  },
  {
   "cell_type": "markdown",
   "metadata": {
    "pycharm": {
     "name": "#%% md\n"
    }
   },
   "source": [
    "# redis基本命令 set"
   ]
  },
  {
   "cell_type": "markdown",
   "metadata": {
    "pycharm": {
     "name": "#%% md\n"
    }
   },
   "source": [
    "## 1.新增\n",
    "sadd(name,values)  \n",
    "name - 对应的集合中添加元素  "
   ]
  },
  {
   "cell_type": "code",
   "execution_count": 146,
   "metadata": {
    "pycharm": {
     "name": "#%%\n"
    }
   },
   "outputs": [
    {
     "name": "stdout",
     "output_type": "stream",
     "text": [
      "4\n",
      "set([u'33', u'55', u'44', u'66'])\n"
     ]
    }
   ],
   "source": [
    "r.sadd(\"set1\", 33, 44, 55, 66)  # 往集合中添加元素\n",
    "print r.scard(\"set1\")  # 集合的长度是4\n",
    "print r.smembers(\"set1\")   # 获取集合中所有的成员"
   ]
  },
  {
   "cell_type": "markdown",
   "metadata": {
    "pycharm": {
     "name": "#%% md\n"
    }
   },
   "source": [
    "## 2.获取元素个数 类似于len\n",
    "scard(name)  \n",
    "获取name对应的集合中元素个数"
   ]
  },
  {
   "cell_type": "code",
   "execution_count": 8,
   "metadata": {
    "pycharm": {
     "name": "#%%\n"
    }
   },
   "outputs": [
    {
     "name": "stdout",
     "output_type": "stream",
     "text": [
      "4\n"
     ]
    }
   ],
   "source": [
    "print r.scard(\"set1\") # 集合的长度是4"
   ]
  },
  {
   "cell_type": "markdown",
   "metadata": {
    "pycharm": {
     "name": "#%% md\n"
    }
   },
   "source": [
    "## 3.获取集合中所有的成员\n",
    "smembers(name)  \n",
    "获取name对应的集合的所有成员"
   ]
  },
  {
   "cell_type": "code",
   "execution_count": 9,
   "metadata": {
    "pycharm": {
     "name": "#%%\n"
    }
   },
   "outputs": [
    {
     "name": "stdout",
     "output_type": "stream",
     "text": [
      "set([u'33', u'55', u'44', u'66'])\n"
     ]
    }
   ],
   "source": [
    "print r.smembers(\"set1\")   # 获取集合中所有的成员"
   ]
  },
  {
   "cell_type": "markdown",
   "metadata": {
    "pycharm": {
     "name": "#%% md\n"
    }
   },
   "source": [
    "获取集合中所有的成员--元组形式  \n",
    "sscan(name, cursor=0, match=None, count=None)"
   ]
  },
  {
   "cell_type": "code",
   "execution_count": 147,
   "metadata": {
    "pycharm": {
     "name": "#%%\n"
    }
   },
   "outputs": [
    {
     "name": "stdout",
     "output_type": "stream",
     "text": [
      "(0L, [u'33', u'44', u'55', u'66'])\n"
     ]
    }
   ],
   "source": [
    "print r.sscan(\"set1\")"
   ]
  },
  {
   "cell_type": "markdown",
   "metadata": {
    "pycharm": {
     "name": "#%% md\n"
    }
   },
   "source": [
    "获取集合中所有的成员--迭代器的方式  \n",
    "sscan_iter(name, match=None, count=None)   \n",
    "同字符串的操作，用于增量迭代分批获取元素，避免内存消耗太大"
   ]
  },
  {
   "cell_type": "code",
   "execution_count": 11,
   "metadata": {
    "pycharm": {
     "name": "#%%\n"
    }
   },
   "outputs": [
    {
     "name": "stdout",
     "output_type": "stream",
     "text": [
      "33\n",
      "44\n",
      "55\n",
      "66\n"
     ]
    }
   ],
   "source": [
    "for i in r.sscan_iter(\"set1\"):\n",
    "    print i"
   ]
  },
  {
   "cell_type": "markdown",
   "metadata": {
    "pycharm": {
     "name": "#%% md\n"
    }
   },
   "source": [
    "## 4.差集\n",
    "sdiff(keys, *args)  \n",
    "在第一个name对应的集合中且不在其他name对应的集合的元素集合"
   ]
  },
  {
   "cell_type": "code",
   "execution_count": 12,
   "metadata": {
    "pycharm": {
     "name": "#%%\n"
    }
   },
   "outputs": [
    {
     "name": "stdout",
     "output_type": "stream",
     "text": [
      "set([u'33', u'55', u'44', u'66'])\n",
      "set([u'11', u'33', u'22'])\n",
      "set([u'55', u'44', u'66'])\n",
      "set([u'11', u'22'])\n"
     ]
    }
   ],
   "source": [
    "r.sadd(\"set2\", 11, 22, 33)\n",
    "print r.smembers(\"set1\")   # 获取集合中所有的成员\n",
    "print r.smembers(\"set2\")\n",
    "print r.sdiff(\"set1\", \"set2\")   # 在集合set1但是不在集合set2中\n",
    "print r.sdiff(\"set2\", \"set1\")   # 在集合set2但是不在集合set1中"
   ]
  },
  {
   "cell_type": "markdown",
   "metadata": {
    "pycharm": {
     "name": "#%% md\n"
    }
   },
   "source": [
    "## 5.差集--差集存在一个新的集合中\n",
    "sdiffstore(dest, keys, *args)  \n",
    "获取第一个name对应的集合中且不在其他name对应的集合，再将其新加入到dest对应的集合中"
   ]
  },
  {
   "cell_type": "code",
   "execution_count": 13,
   "metadata": {
    "pycharm": {
     "name": "#%%\n"
    }
   },
   "outputs": [
    {
     "name": "stdout",
     "output_type": "stream",
     "text": [
      "set([u'55', u'44', u'66'])\n"
     ]
    }
   ],
   "source": [
    "r.sdiffstore(\"set3\", \"set1\", \"set2\")    # 在集合set1但是不在集合set2中\n",
    "print r.smembers(\"set3\")  # 获取集合3中所有的成员"
   ]
  },
  {
   "cell_type": "markdown",
   "metadata": {
    "pycharm": {
     "name": "#%% md\n"
    }
   },
   "source": [
    "## 6.交集\n",
    "sinter(keys, *args)  \n",
    "获取多一个name对应集合的交集"
   ]
  },
  {
   "cell_type": "code",
   "execution_count": 14,
   "metadata": {
    "pycharm": {
     "name": "#%%\n"
    }
   },
   "outputs": [
    {
     "name": "stdout",
     "output_type": "stream",
     "text": [
      "set([u'33'])\n"
     ]
    }
   ],
   "source": [
    "print r.sinter(\"set1\", \"set2\") # 取2个集合的交集"
   ]
  },
  {
   "cell_type": "markdown",
   "metadata": {
    "pycharm": {
     "name": "#%% md\n"
    }
   },
   "source": [
    "## 7.交集--交集存在一个新的集合中\n",
    "sinterstore(dest, keys, *args)  \n",
    "获取多一个name对应集合的并集，再将其加入到dest对应的集合中"
   ]
  },
  {
   "cell_type": "code",
   "execution_count": 15,
   "metadata": {
    "pycharm": {
     "name": "#%%\n"
    }
   },
   "outputs": [
    {
     "name": "stdout",
     "output_type": "stream",
     "text": [
      "1\n",
      "set([u'33'])\n"
     ]
    }
   ],
   "source": [
    "print r.sinterstore(\"set3\", \"set1\", \"set2\") # 取2个集合的交集\n",
    "print r.smembers(\"set3\")"
   ]
  },
  {
   "cell_type": "markdown",
   "metadata": {
    "pycharm": {
     "name": "#%% md\n"
    }
   },
   "source": [
    "## 8.并集\n",
    "sunion(keys, *args)  \n",
    "获取多个name对应的集合的并集\n"
   ]
  },
  {
   "cell_type": "code",
   "execution_count": 17,
   "metadata": {
    "pycharm": {
     "name": "#%%\n"
    }
   },
   "outputs": [
    {
     "name": "stdout",
     "output_type": "stream",
     "text": [
      "set([u'11', u'22', u'33', u'44', u'55', u'66'])\n"
     ]
    }
   ],
   "source": [
    "print r.sunion(\"set1\", \"set2\") # 取2个集合的并集"
   ]
  },
  {
   "cell_type": "markdown",
   "metadata": {
    "pycharm": {
     "name": "#%% md\n"
    }
   },
   "source": [
    "## 9.并集--并集存在一个新的集合\n",
    "sunionstore(dest,keys, *args)  \n",
    "获取多一个name对应的集合的并集，并将结果保存到dest对应的集合中"
   ]
  },
  {
   "cell_type": "code",
   "execution_count": 18,
   "metadata": {
    "pycharm": {
     "name": "#%%\n"
    }
   },
   "outputs": [
    {
     "name": "stdout",
     "output_type": "stream",
     "text": [
      "6\n",
      "set([u'11', u'22', u'33', u'44', u'55', u'66'])\n"
     ]
    }
   ],
   "source": [
    "print r.sunionstore(\"set3\", \"set1\", \"set2\") # 取2个集合的并集\n",
    "print r.smembers(\"set3\")"
   ]
  },
  {
   "cell_type": "markdown",
   "metadata": {
    "pycharm": {
     "name": "#%% md\n"
    }
   },
   "source": [
    "## 10.判断是否是集合的成员 类似in\n",
    "sismember(name, value)  \n",
    "检查value是否是name对应的集合的成员，结果为True和False"
   ]
  },
  {
   "cell_type": "code",
   "execution_count": 20,
   "metadata": {
    "pycharm": {
     "name": "#%%\n"
    }
   },
   "outputs": [
    {
     "name": "stdout",
     "output_type": "stream",
     "text": [
      "True\n",
      "False\n"
     ]
    }
   ],
   "source": [
    "print r.sismember(\"set1\", 33)  # 33是集合的成员\n",
    "print r.sismember(\"set1\", 23)  # 23不是集合的成员"
   ]
  },
  {
   "cell_type": "markdown",
   "metadata": {
    "pycharm": {
     "name": "#%% md\n"
    }
   },
   "source": [
    "## 11.移动\n",
    "smove(src, dst, value)  \n",
    "将某个成员从一个集合中移动到另外一个集合"
   ]
  },
  {
   "cell_type": "code",
   "execution_count": 21,
   "metadata": {
    "pycharm": {
     "name": "#%%\n"
    }
   },
   "outputs": [
    {
     "name": "stdout",
     "output_type": "stream",
     "text": [
      "set([u'33', u'55', u'66'])\n",
      "set([u'11', u'33', u'44', u'22'])\n"
     ]
    }
   ],
   "source": [
    "r.smove(\"set1\", \"set2\", 44)\n",
    "print r.smembers(\"set1\")\n",
    "print r.smembers(\"set2\")"
   ]
  },
  {
   "cell_type": "markdown",
   "metadata": {
    "pycharm": {
     "name": "#%% md\n"
    }
   },
   "source": [
    "## 12.删除--随机删除并且返回被删除值\n",
    "spop(name)  \n",
    "从集合移除一个成员，并将其返回,说明一下，集合是无序的，所有是随机删除的"
   ]
  },
  {
   "cell_type": "code",
   "execution_count": 22,
   "metadata": {
    "pycharm": {
     "name": "#%%\n"
    }
   },
   "outputs": [
    {
     "name": "stdout",
     "output_type": "stream",
     "text": [
      "33\n",
      "set([u'11', u'44', u'22'])\n"
     ]
    }
   ],
   "source": [
    "print r.spop(\"set2\")   # 这个删除的值是随机删除的，集合是无序的\n",
    "print r.smembers(\"set2\")"
   ]
  },
  {
   "cell_type": "markdown",
   "metadata": {
    "pycharm": {
     "name": "#%% md\n"
    }
   },
   "source": [
    "## 13.删除--指定值删除\n",
    "srem(name, values)  \n",
    "在name对应的集合中删除某些值"
   ]
  },
  {
   "cell_type": "code",
   "execution_count": 23,
   "metadata": {
    "pycharm": {
     "name": "#%%\n"
    }
   },
   "outputs": [
    {
     "name": "stdout",
     "output_type": "stream",
     "text": [
      "1\n",
      "set([u'44', u'22'])\n"
     ]
    }
   ],
   "source": [
    "print r.srem(\"set2\", 11)   # 从集合中删除指定值 11\n",
    "print r.smembers(\"set2\")"
   ]
  },
  {
   "cell_type": "markdown",
   "metadata": {
    "pycharm": {
     "name": "#%% md\n"
    }
   },
   "source": [
    "# redis基本命令 有序set\n",
    "Set操作，Set集合就是不允许重复的列表，本身是无序的。  \n",
    "有序集合，在集合的基础上，为每元素排序；元素的排序需要根据另外一个值来进行比较，所以，对于有序集合，每一个元素有两个值，即：值和分数，分数专门用来做排序。"
   ]
  },
  {
   "cell_type": "markdown",
   "metadata": {
    "pycharm": {
     "name": "#%% md\n"
    }
   },
   "source": [
    "## 1.新增\n",
    "zadd(name, *args, **kwargs)  \n",
    "在name对应的有序集合中添加元素  \n",
    "如："
   ]
  },
  {
   "cell_type": "code",
   "execution_count": 2,
   "metadata": {
    "pycharm": {
     "name": "#%%\n"
    }
   },
   "outputs": [
    {
     "name": "stdout",
     "output_type": "stream",
     "text": [
      "[u'n1', u'n2']\n",
      "3\n",
      "2\n",
      "[u'n1', u'n3', u'n2']\n",
      "[(u'm1', 22.0), (u'm2', 44.0)]\n"
     ]
    }
   ],
   "source": [
    "import redis\n",
    "import time\n",
    "\n",
    "pool = redis.ConnectionPool(host='localhost', port=6379, decode_responses=True)\n",
    "r = redis.Redis(connection_pool=pool)\n",
    "\n",
    "print r.zrange(\"zset1\", 0, -1)\n",
    "r.zadd(\"zset1\", {'n1' : 11, 'n2' : 22})\n",
    "r.zadd(\"zset1\", {'n3' : 15})\n",
    "r.zadd(\"zset2\", {'m1' : 22, 'm2' : 44})\n",
    "print r.zcard(\"zset1\") # 集合长度\n",
    "print r.zcard(\"zset2\") # 集合长度\n",
    "print r.zrange(\"zset1\", 0, -1)   # 获取有序集合中所有元素\n",
    "print r.zrange(\"zset2\", 0, -1, withscores=True)   # 获取有序集合中所有元素和分数"
   ]
  },
  {
   "cell_type": "markdown",
   "metadata": {
    "pycharm": {
     "name": "#%% md\n"
    }
   },
   "source": [
    "## 2.获取有序集合元素个数 类似于len\n",
    "zcard(name)  \n",
    "获取name对应的有序集合元素的数量"
   ]
  },
  {
   "cell_type": "code",
   "execution_count": 28,
   "metadata": {
    "pycharm": {
     "name": "#%%\n"
    }
   },
   "outputs": [
    {
     "name": "stdout",
     "output_type": "stream",
     "text": [
      "0\n"
     ]
    }
   ],
   "source": [
    "print r.zcard(\"zset1\") # 集合长度"
   ]
  },
  {
   "cell_type": "markdown",
   "metadata": {
    "pycharm": {
     "name": "#%% md\n"
    }
   },
   "source": [
    "## 3.获取有序集合的所有元素\n",
    "r.zrange( name, start, end, desc=False, withscores=False, score_cast_func=float)  \n",
    "按照索引范围获取name对应的有序集合的元素  \n",
    "参数：   \n",
    "- name - redis的name\n",
    "- start - 有序集合索引起始位置（非分数）\n",
    "- end - 有序集合索引结束位置（非分数）\n",
    "- desc - 排序规则，默认按照分数从小到大排序\n",
    "- withscores - 是否获取元素的分数，默认只获取元素的值\n",
    "- score_cast_func - 对分数进行数据转换的函数\n",
    "\n",
    "\n",
    "3-1 从大到小排序(同zrange，集合是从大到小排序的)  \n",
    "zrevrange(name, start, end, withscores=False, score_cast_func=float)"
   ]
  },
  {
   "cell_type": "code",
   "execution_count": 5,
   "metadata": {
    "pycharm": {
     "name": "#%%\n"
    }
   },
   "outputs": [
    {
     "name": "stdout",
     "output_type": "stream",
     "text": [
      "[]\n",
      "[u'n2', u'n3', u'n1']\n",
      "[(u'n2', 22.0), (u'n3', 15.0), (u'n1', 11.0)]\n"
     ]
    }
   ],
   "source": [
    "print r.zrange(\"zset\", 11, 15)\n",
    "print r.zrevrange(\"zset1\", 0, -1)   # 只获取元素，不显示分数\n",
    "print r.zrevrange(\"zset1\", 0, -1, withscores=True) # 获取有序集合中所有元素和分数,分数倒序"
   ]
  },
  {
   "cell_type": "markdown",
   "metadata": {
    "pycharm": {
     "name": "#%% md\n"
    }
   },
   "source": [
    "3-2 按照分数范围获取name对应的有序集合的元素  \n",
    "zrangebyscore(name, min, max, start=None, num=None, withscores=False, score_cast_func=float)"
   ]
  },
  {
   "cell_type": "code",
   "execution_count": 169,
   "metadata": {
    "pycharm": {
     "name": "#%%\n"
    }
   },
   "outputs": [
    {
     "name": "stdout",
     "output_type": "stream",
     "text": [
      "[u'n15', u'n16', u'n17', u'n18', u'n19', u'n20', u'n21', u'n22', u'n23', u'n24', u'n25']\n",
      "[(u'n12', 12.0), (u'n13', 13.0), (u'n14', 14.0), (u'n15', 15.0), (u'n16', 16.0), (u'n17', 17.0), (u'n18', 18.0), (u'n19', 19.0), (u'n20', 20.0), (u'n21', 21.0), (u'n22', 22.0)]\n"
     ]
    }
   ],
   "source": [
    "for i in range(1, 30):\n",
    "   element = 'n' + str(i)\n",
    "   r.zadd(\"zset3\", {element : i})\n",
    "print r.zrangebyscore(\"zset3\", 15, 25)  # # 在分数是15-25之间，取出符合条件的元素\n",
    "print r.zrangebyscore(\"zset3\", 12, 22, withscores=True)    # 在分数是12-22之间，取出符合条件的元素（带分数）"
   ]
  },
  {
   "cell_type": "markdown",
   "metadata": {
    "pycharm": {
     "name": "#%% md\n"
    }
   },
   "source": [
    "3-3 按照分数范围获取有序集合的元素并排序（默认从大到小排序）  \n",
    "zrevrangebyscore(name, max, min, start=None, num=None, withscores=False, score_cast_func=float)"
   ]
  },
  {
   "cell_type": "code",
   "execution_count": 32,
   "metadata": {
    "pycharm": {
     "name": "#%%\n"
    }
   },
   "outputs": [
    {
     "name": "stdout",
     "output_type": "stream",
     "text": [
      "[]\n"
     ]
    }
   ],
   "source": [
    "print r.zrevrangebyscore(\"zset3\", 22, 11, withscores=True) # 在分数是22-11之间，取出符合条件的元素 按照"
   ]
  },
  {
   "cell_type": "markdown",
   "metadata": {
    "pycharm": {
     "name": "#%% md\n"
    }
   },
   "source": [
    "分数倒序  \n",
    "3-4 获取所有元素--默认按照分数顺序排序  \n",
    "zscan(name, cursor=0, match=None, count=None, score_cast_func=float)  "
   ]
  },
  {
   "cell_type": "code",
   "execution_count": 33,
   "metadata": {
    "pycharm": {
     "name": "#%%\n"
    }
   },
   "outputs": [
    {
     "name": "stdout",
     "output_type": "stream",
     "text": [
      "(0L, [])\n"
     ]
    }
   ],
   "source": [
    "print r.zscan(\"zset3\")"
   ]
  },
  {
   "cell_type": "markdown",
   "metadata": {
    "pycharm": {
     "name": "#%% md\n"
    }
   },
   "source": [
    "3-5 获取所有元素--迭代器  \n",
    "zscan_iter(name, match=None, count=None,score_cast_func=float)"
   ]
  },
  {
   "cell_type": "code",
   "execution_count": 34,
   "metadata": {
    "collapsed": true,
    "pycharm": {
     "name": "#%%\n"
    }
   },
   "outputs": [],
   "source": [
    "for i in r.zscan_iter(\"zset3\"): # 遍历迭代器\n",
    "    print i"
   ]
  },
  {
   "cell_type": "markdown",
   "metadata": {
    "pycharm": {
     "name": "#%% md\n"
    }
   },
   "source": [
    "## 4.zcount(name, min, max)\n",
    "获取name对应的有序集合中分数 在 [min,max] 之间的个数"
   ]
  },
  {
   "cell_type": "code",
   "execution_count": 35,
   "metadata": {
    "pycharm": {
     "name": "#%%\n"
    }
   },
   "outputs": [
    {
     "name": "stdout",
     "output_type": "stream",
     "text": [
      "[]\n",
      "0\n"
     ]
    }
   ],
   "source": [
    "print r.zrange(\"zset3\", 0, -1, withscores=True)\n",
    "print r.zcount(\"zset3\", 11, 22)"
   ]
  },
  {
   "cell_type": "markdown",
   "metadata": {
    "pycharm": {
     "name": "#%% md\n"
    }
   },
   "source": [
    "## 5.自增\n",
    "zincrby(name, value, amount)  \n",
    "自增name对应的有序集合的 name 对应的分数  "
   ]
  },
  {
   "cell_type": "code",
   "execution_count": 37,
   "metadata": {
    "pycharm": {
     "name": "#%%\n"
    }
   },
   "outputs": [
    {
     "ename": "TypeError",
     "evalue": "zincrby() got multiple values for keyword argument 'amount'",
     "output_type": "error",
     "traceback": [
      "\u001B[0;31m---------------------------------------------------------------------------\u001B[0m",
      "\u001B[0;31mTypeError\u001B[0m                                 Traceback (most recent call last)",
      "\u001B[0;32m<ipython-input-37-8afe494535b5>\u001B[0m in \u001B[0;36m<module>\u001B[0;34m()\u001B[0m\n\u001B[0;32m----> 1\u001B[0;31m \u001B[0mr\u001B[0m\u001B[0;34m.\u001B[0m\u001B[0mzincrby\u001B[0m\u001B[0;34m(\u001B[0m\u001B[0;34m\"zset3\"\u001B[0m\u001B[0;34m,\u001B[0m \u001B[0;34m\"n2\"\u001B[0m\u001B[0;34m,\u001B[0m \u001B[0mamount\u001B[0m\u001B[0;34m=\u001B[0m\u001B[0;36m2\u001B[0m\u001B[0;34m)\u001B[0m    \u001B[0;31m# 每次将n2的分数自增2\u001B[0m\u001B[0;34m\u001B[0m\u001B[0m\n\u001B[0m\u001B[1;32m      2\u001B[0m \u001B[0;32mprint\u001B[0m \u001B[0mr\u001B[0m\u001B[0;34m.\u001B[0m\u001B[0mzrange\u001B[0m\u001B[0;34m(\u001B[0m\u001B[0;34m\"zset3\"\u001B[0m\u001B[0;34m,\u001B[0m \u001B[0;36m0\u001B[0m\u001B[0;34m,\u001B[0m \u001B[0;34m-\u001B[0m\u001B[0;36m1\u001B[0m\u001B[0;34m,\u001B[0m \u001B[0mwithscores\u001B[0m\u001B[0;34m=\u001B[0m\u001B[0mTrue\u001B[0m\u001B[0;34m)\u001B[0m\u001B[0;34m\u001B[0m\u001B[0m\n",
      "\u001B[0;31mTypeError\u001B[0m: zincrby() got multiple values for keyword argument 'amount'"
     ]
    }
   ],
   "source": [
    "r.zincrby(\"zset3\", \"n2\", amount=2)    # 每次将n2的分数自增2\n",
    "print r.zrange(\"zset3\", 0, -1, withscores=True)"
   ]
  },
  {
   "cell_type": "markdown",
   "metadata": {
    "pycharm": {
     "name": "#%% md\n"
    }
   },
   "source": [
    "## 6.获取值的索引号\n",
    "zrank(name, value)  \n",
    "获取某个值在 name对应的有序集合中的索引（从 0 开始）  \n",
    "更多：  \n",
    "zrevrank(name, value)，从大到小排序。"
   ]
  },
  {
   "cell_type": "code",
   "execution_count": 39,
   "metadata": {
    "pycharm": {
     "name": "#%%\n"
    }
   },
   "outputs": [
    {
     "name": "stdout",
     "output_type": "stream",
     "text": [
      "None\n",
      "None\n",
      "None\n"
     ]
    }
   ],
   "source": [
    "print r.zrank(\"zset3\", \"n1\")    # n1的索引号是0 这里按照分数顺序（从小到大）\n",
    "print r.zrank(\"zset3\", \"n6\")    # n6的索引号是1\n",
    "\n",
    "print r.zrevrank(\"zset3\", \"n1\")    # n1的索引号是29 这里安照分数倒序（从大到小）"
   ]
  },
  {
   "cell_type": "markdown",
   "metadata": {
    "pycharm": {
     "name": "#%% md\n"
    }
   },
   "source": [
    "## 7.删除--指定值删除\n",
    "zrem(name, values)  \n",
    "删除name对应的有序集合中值是values的成员  "
   ]
  },
  {
   "cell_type": "code",
   "execution_count": 41,
   "metadata": {
    "pycharm": {
     "name": "#%%\n"
    }
   },
   "outputs": [
    {
     "name": "stdout",
     "output_type": "stream",
     "text": [
      "[]\n"
     ]
    }
   ],
   "source": [
    "r.zrem(\"zset3\", \"n3\")   # 删除有序集合中的元素n3 删除单个\n",
    "print r.zrange(\"zset3\", 0, -1)"
   ]
  },
  {
   "cell_type": "markdown",
   "metadata": {
    "pycharm": {
     "name": "#%% md\n"
    }
   },
   "source": [
    "## 8.删除--根据排行范围删除，按照索引号来删除\n",
    "zremrangebyrank(name, min, max)  \n",
    "根据排行范围删除"
   ]
  },
  {
   "cell_type": "code",
   "execution_count": 44,
   "metadata": {
    "pycharm": {
     "name": "#%%\n"
    }
   },
   "outputs": [
    {
     "name": "stdout",
     "output_type": "stream",
     "text": [
      "[]\n"
     ]
    }
   ],
   "source": [
    "r.zremrangebyrank(\"zset3\", 0, 1)  # 删除有序集合中的索引号是0, 1的元素\n",
    "print r.zrange(\"zset3\", 0, -1)"
   ]
  },
  {
   "cell_type": "markdown",
   "metadata": {
    "pycharm": {
     "name": "#%% md\n"
    }
   },
   "source": [
    "## 9.删除--根据分数范围删除\n",
    "zremrangebyscore(name, min, max)  \n",
    "根据分数范围删除"
   ]
  },
  {
   "cell_type": "code",
   "execution_count": 45,
   "metadata": {
    "pycharm": {
     "name": "#%%\n"
    }
   },
   "outputs": [
    {
     "name": "stdout",
     "output_type": "stream",
     "text": [
      "[]\n"
     ]
    }
   ],
   "source": [
    "r.zremrangebyscore(\"zset3\", 11, 22)   # 删除有序集合中的分数是11-22的元素\n",
    "print r.zrange(\"zset3\", 0, -1)"
   ]
  },
  {
   "cell_type": "markdown",
   "metadata": {
    "pycharm": {
     "name": "#%% md\n"
    }
   },
   "source": [
    "## 10.获取值对应的分数\n",
    "zscore(name, value)  \n",
    "获取name对应有序集合中 value 对应的分数"
   ]
  },
  {
   "cell_type": "code",
   "execution_count": 46,
   "metadata": {
    "pycharm": {
     "name": "#%%\n"
    }
   },
   "outputs": [
    {
     "name": "stdout",
     "output_type": "stream",
     "text": [
      "None\n"
     ]
    }
   ],
   "source": [
    "print r.zscore(\"zset3\", \"n27\")   # 获取元素n27对应的分数27"
   ]
  },
  {
   "cell_type": "markdown",
   "metadata": {
    "pycharm": {
     "name": "#%% md\n"
    }
   },
   "source": [
    "# 其他常用操作"
   ]
  },
  {
   "cell_type": "markdown",
   "metadata": {
    "pycharm": {
     "name": "#%% md\n"
    }
   },
   "source": [
    "## 1.删除\n",
    "delete(*names)  \n",
    "根据删除redis中的任意数据类型（string、hash、list、set、有序set）"
   ]
  },
  {
   "cell_type": "code",
   "execution_count": 56,
   "metadata": {
    "pycharm": {
     "name": "#%%\n"
    }
   },
   "outputs": [
    {
     "data": {
      "text/plain": [
       "0"
      ]
     },
     "execution_count": 56,
     "metadata": {},
     "output_type": "execute_result"
    }
   ],
   "source": [
    "r.delete(\"gender\")  # 删除key为gender的键值对"
   ]
  },
  {
   "cell_type": "markdown",
   "metadata": {
    "pycharm": {
     "name": "#%% md\n"
    }
   },
   "source": [
    "## 2.检查名字是否存在\n",
    "exists(name)  \n",
    "检测redis的name是否存在，存在就是True，False 不存在"
   ]
  },
  {
   "cell_type": "code",
   "execution_count": 57,
   "metadata": {
    "pycharm": {
     "name": "#%%\n"
    }
   },
   "outputs": [
    {
     "name": "stdout",
     "output_type": "stream",
     "text": [
      "0\n"
     ]
    }
   ],
   "source": [
    "print r.exists(\"zset1\")"
   ]
  },
  {
   "cell_type": "markdown",
   "metadata": {
    "pycharm": {
     "name": "#%% md\n"
    }
   },
   "source": [
    "## 3.模糊匹配\n",
    "keys(pattern='')  \n",
    "根据模型获取redis的name  \n",
    "更多：  \n",
    "- KEYS * 匹配数据库中所有 key 。  \n",
    "- KEYS h?llo 匹配 hello ， hallo 和 hxllo 等。  \n",
    "- KEYS hllo 匹配 hllo 和 heeeeello 等。  \n",
    "- KEYS h[ae]llo 匹配 hello 和 hallo ，但不匹配 hillo  "
   ]
  },
  {
   "cell_type": "code",
   "execution_count": 58,
   "metadata": {
    "pycharm": {
     "name": "#%%\n"
    }
   },
   "outputs": [
    {
     "name": "stdout",
     "output_type": "stream",
     "text": [
      "[u'foo1', u'foo', u'food', u'foo2', u'foo4']\n"
     ]
    }
   ],
   "source": [
    "print r.keys(\"foo*\")"
   ]
  },
  {
   "cell_type": "markdown",
   "metadata": {
    "pycharm": {
     "name": "#%% md\n"
    }
   },
   "source": [
    "## 4.设置超时时间\n",
    "expire(name ,time)  \n",
    "为某个redis的某个name设置超时时间"
   ]
  },
  {
   "cell_type": "code",
   "execution_count": 59,
   "metadata": {
    "pycharm": {
     "name": "#%%\n"
    }
   },
   "outputs": [
    {
     "name": "stdout",
     "output_type": "stream",
     "text": [
      "[u'22', u'11']\n",
      "[]\n"
     ]
    }
   ],
   "source": [
    "r.lpush(\"list5\", 11, 22)\n",
    "r.expire(\"list5\", time=3)\n",
    "print r.lrange(\"list5\", 0, -1)\n",
    "time.sleep(3)\n",
    "print r.lrange(\"list5\", 0, -1)"
   ]
  },
  {
   "cell_type": "markdown",
   "metadata": {
    "pycharm": {
     "name": "#%% md\n"
    }
   },
   "source": [
    "## 5.重命名\n",
    "rename(src, dst)  \n",
    "对redis的name重命名"
   ]
  },
  {
   "cell_type": "code",
   "execution_count": 62,
   "metadata": {
    "pycharm": {
     "name": "#%%\n"
    }
   },
   "outputs": [
    {
     "data": {
      "text/plain": [
       "True"
      ]
     },
     "execution_count": 62,
     "metadata": {},
     "output_type": "execute_result"
    }
   ],
   "source": [
    "r.lpush(\"list5\", 11, 22)\n",
    "r.rename(\"list5\", \"list5-1\")"
   ]
  },
  {
   "cell_type": "markdown",
   "metadata": {
    "pycharm": {
     "name": "#%% md\n"
    }
   },
   "source": [
    "## 6.随机获取name\n",
    "randomkey()  \n",
    "随机获取一个redis的name（不删除）  "
   ]
  },
  {
   "cell_type": "code",
   "execution_count": 63,
   "metadata": {
    "pycharm": {
     "name": "#%%\n"
    }
   },
   "outputs": [
    {
     "name": "stdout",
     "output_type": "stream",
     "text": [
      "en_name\n"
     ]
    }
   ],
   "source": [
    "print r.randomkey()"
   ]
  },
  {
   "cell_type": "markdown",
   "metadata": {
    "pycharm": {
     "name": "#%% md\n"
    }
   },
   "source": [
    "## 7.获取类型\n",
    "type(name)  \n",
    "获取name对应值的类型"
   ]
  },
  {
   "cell_type": "code",
   "execution_count": 65,
   "metadata": {
    "pycharm": {
     "name": "#%%\n"
    }
   },
   "outputs": [
    {
     "name": "stdout",
     "output_type": "stream",
     "text": [
      "set\n",
      "hash\n"
     ]
    }
   ],
   "source": [
    "print r.type(\"set1\")\n",
    "print r.type(\"hash2\")"
   ]
  },
  {
   "cell_type": "markdown",
   "metadata": {
    "pycharm": {
     "name": "#%% md\n"
    }
   },
   "source": [
    "## 8.查看所有元素"
   ]
  },
  {
   "cell_type": "code",
   "execution_count": 67,
   "metadata": {
    "pycharm": {
     "name": "#%%\n"
    }
   },
   "outputs": [
    {
     "name": "stdout",
     "output_type": "stream",
     "text": [
      "(0L, {u'k3': u'v3', u'k2': u'v2'})\n",
      "(0L, [u'11', u'22', u'33', u'44', u'55', u'66'])\n",
      "(0L, [])\n",
      "124\n",
      "[u'22', u'11', u'00', u'11', u'22']\n",
      "set([u'11', u'22', u'33', u'44', u'55', u'66'])\n",
      "[]\n",
      "{u'k11': u'v1', u'k3': u'122', u'k2': u'v222', u'k6': u'-1', u'k5': u'0', u'k4': u'1'}\n"
     ]
    }
   ],
   "source": [
    "r.scan(cursor=0, match=None, count=None)\n",
    "\n",
    "print(r.hscan(\"hash2\"))\n",
    "print(r.sscan(\"set3\"))\n",
    "print(r.zscan(\"zset2\"))\n",
    "print(r.getrange(\"foo1\", 0, -1))\n",
    "print(r.lrange(\"list2\", 0, -1))\n",
    "print(r.smembers(\"set3\"))\n",
    "print(r.zrange(\"zset3\", 0, -1))\n",
    "print(r.hgetall(\"hash1\"))"
   ]
  },
  {
   "cell_type": "markdown",
   "metadata": {
    "pycharm": {
     "name": "#%% md\n"
    }
   },
   "source": [
    "## 9.查看所有元素--迭代器"
   ]
  },
  {
   "cell_type": "code",
   "execution_count": 69,
   "metadata": {
    "pycharm": {
     "name": "#%%\n"
    }
   },
   "outputs": [
    {
     "name": "stdout",
     "output_type": "stream",
     "text": [
      "(u'k11', u'v1')\n",
      "(u'k3', u'122')\n",
      "(u'k2', u'v222')\n",
      "(u'k6', u'-1')\n",
      "(u'k5', u'0')\n",
      "(u'k4', u'1')\n",
      "11\n",
      "22\n",
      "33\n",
      "44\n",
      "55\n",
      "66\n"
     ]
    }
   ],
   "source": [
    "r.scan_iter(match=None, count=None)\n",
    "\n",
    "for i in r.hscan_iter(\"hash1\"):\n",
    "    print(i)\n",
    "\n",
    "for i in r.sscan_iter(\"set3\"):\n",
    "    print(i)\n",
    "\n",
    "for i in r.zscan_iter(\"zset3\"):\n",
    "    print(i)"
   ]
  },
  {
   "cell_type": "markdown",
   "metadata": {
    "pycharm": {
     "name": "#%% md\n"
    }
   },
   "source": [
    "## other 方法"
   ]
  },
  {
   "cell_type": "code",
   "execution_count": 70,
   "metadata": {
    "pycharm": {
     "name": "#%%\n"
    }
   },
   "outputs": [
    {
     "name": "stdout",
     "output_type": "stream",
     "text": [
      "runoobhaha\n",
      "[u'hash1', u'hash2', u'list5-1', u'foo1', u'name', u'list2', u'foo', u'fruit', u'set3', u'food', u'list1', u'cn_name', u'foo2', u'fruit1', u'new', u'set1', u'en_name', u'visit:12306:totals', u'set2', u'runoobkey', u'foo4']\n",
      "21\n"
     ]
    },
    {
     "data": {
      "text/plain": [
       "True"
      ]
     },
     "execution_count": 70,
     "metadata": {},
     "output_type": "execute_result"
    }
   ],
   "source": [
    "print(r.get('name'))    # 查询key为name的值\n",
    "r.delete(\"gender\")  # 删除key为gender的键值对\n",
    "print(r.keys()) # 查询所有的Key\n",
    "print(r.dbsize())   # 当前redis包含多少条数据\n",
    "r.save()    # 执行\"检查点\"操作，将数据写回磁盘。保存时阻塞\n",
    "# r.flushdb()        # 清空r中的所有数据"
   ]
  },
  {
   "cell_type": "markdown",
   "metadata": {
    "pycharm": {
     "name": "#%% md\n"
    }
   },
   "source": [
    "# 管道（pipeline）\n",
    "redis默认在执行每次请求都会创建（连接池申请连接）和断开（归还连接池）一次连接操作，如果想要在一次请求中指定多个命令，则可以使用pipline实现一次请求指定多个命令，并且默认情况下一次pipline 是原子性操作。  \n",
    "管道（pipeline）是redis在提供单个请求中缓冲多条服务器命令的基类的子类。它通过减少服务器-客户端之间反复的TCP数据库包，从而大大提高了执行批量命令的功能。"
   ]
  },
  {
   "cell_type": "code",
   "execution_count": 71,
   "metadata": {
    "pycharm": {
     "name": "#%%\n"
    }
   },
   "outputs": [
    {
     "name": "stdout",
     "output_type": "stream",
     "text": [
      "jack\n",
      "sb\n",
      "1\n"
     ]
    }
   ],
   "source": [
    "import redis\n",
    "import time\n",
    "\n",
    "pool = redis.ConnectionPool(host='localhost', port=6379, decode_responses=True)\n",
    "r = redis.Redis(connection_pool=pool)\n",
    "\n",
    "# pipe = r.pipeline(transaction=False)    # 默认的情况下，管道里执行的命令可以保证执行的原子性，执行pipe = r.pipeline(transaction=False)可以禁用这一特性。\n",
    "# pipe = r.pipeline(transaction=True)\n",
    "pipe = r.pipeline() # 创建一个管道\n",
    "\n",
    "pipe.set('name', 'jack')\n",
    "pipe.set('role', 'sb')\n",
    "pipe.sadd('faz', 'baz')\n",
    "pipe.incr('num')    # 如果num不存在则vaule为1，如果存在，则value自增1\n",
    "pipe.execute()\n",
    "\n",
    "print(r.get(\"name\"))\n",
    "print(r.get(\"role\"))\n",
    "print(r.get(\"num\"))"
   ]
  },
  {
   "cell_type": "markdown",
   "metadata": {
    "pycharm": {
     "name": "#%% md\n"
    }
   },
   "source": [
    "管道的命令可以写在一起，如："
   ]
  },
  {
   "cell_type": "code",
   "execution_count": 73,
   "metadata": {
    "pycharm": {
     "name": "#%%\n"
    }
   },
   "outputs": [
    {
     "name": "stdout",
     "output_type": "stream",
     "text": [
      "jack\n",
      "sb\n",
      "2\n"
     ]
    }
   ],
   "source": [
    "pipe.set('hello', 'redis').sadd('faz', 'baz').incr('num').execute()\n",
    "print(r.get(\"name\"))\n",
    "print(r.get(\"role\"))\n",
    "print(r.get(\"num\"))"
   ]
  },
  {
   "cell_type": "code",
   "execution_count": null,
   "metadata": {
    "collapsed": true,
    "pycharm": {
     "name": "#%%\n"
    }
   },
   "outputs": [],
   "source": []
  }
 ],
 "metadata": {
  "kernelspec": {
   "display_name": "Python 2",
   "language": "python",
   "name": "python2"
  },
  "language_info": {
   "codemirror_mode": {
    "name": "ipython",
    "version": 2
   },
   "file_extension": ".py",
   "mimetype": "text/x-python",
   "name": "python",
   "nbconvert_exporter": "python",
   "pygments_lexer": "ipython2",
   "version": "2.7.5"
  }
 },
 "nbformat": 4,
 "nbformat_minor": 2
}