{
 "cells": [
  {
   "cell_type": "markdown",
   "metadata": {},
   "source": [
    "# python 第三课 By 海贼"
   ]
  },
  {
   "cell_type": "markdown",
   "metadata": {},
   "source": [
    "## 1、[列表](http://www.runoob.com/python/python-lists.html)"
   ]
  },
  {
   "cell_type": "markdown",
   "metadata": {},
   "source": [
    "### 1.1 初始化及访问"
   ]
  },
  {
   "cell_type": "markdown",
   "metadata": {},
   "source": [
    "`列表(list)` 作为大家 **Python** 学习中接触的第一个 ***可迭代*** 的数据结构，同学们可以简单的理解为数组。不同于 *C/C++* 中的数组，**Python** 中的 `列表` 可以存放不同类型的元素（实际上，**Python** 内部所有元素皆为对象）。\n",
    "\n",
    "定义一个列表元素有如下两种方式："
   ]
  },
  {
   "cell_type": "code",
   "execution_count": 1,
   "metadata": {},
   "outputs": [
    {
     "name": "stdout",
     "output_type": "stream",
     "text": [
      "list_a : []\n",
      "list_b : []\n",
      "hello world\n"
     ]
    }
   ],
   "source": [
    "# example 3.1.1\n",
    "list_a = list() # list_a 指向一个空列表\n",
    "list_b = []     # list_b 指向一个空列表\n",
    "print (\"list_a : %s\" % (list_a))\n",
    "print (\"list_b : %s\" % (list_b))\n",
    "print (\"hello world\")"
   ]
  },
  {
   "cell_type": "markdown",
   "metadata": {},
   "source": [
    "---\n",
    "以上代码中，`list()` 本身是一个 **Python** 中的函数，其是把一个 `元组(tuple)` 转换为一个列表，当没有参数时，默认传进去的是一个空元组，转换得到的函数返回值便是一个空列表。`[]` 是列表的标准标识符，其中可以放置列表的相关元素，什么都不放置，即为空列表。\n",
    "\n",
    "\n",
    "`元组(tuple)` 的知识本节课的后面会讲到。关于 **Python** 中函数部分的知识，后面会详细讲到。\n",
    "\n",
    "看完了上面演示的定义列表元素，下面再让我们来看看如何初始化列表以及访问列表中相关元素："
   ]
  },
  {
   "cell_type": "code",
   "execution_count": 4,
   "metadata": {},
   "outputs": [
    {
     "name": "stdout",
     "output_type": "stream",
     "text": [
      "list_a : [1, 2, 6, 4](4)\n",
      "list_b : [1, 2, 5, 8](4)\n",
      "list_c : [2, 4, 12, 8](4)\n",
      "6\n",
      "1\n",
      "2\n",
      "6\n",
      "4\n"
     ]
    }
   ],
   "source": [
    "# example 3.1.2\n",
    "list_a = list((1, 2, 6, 4))      # 初始化 list_a\n",
    "list_b = [1, 2, 5, 8]            # 初始化 list_b\n",
    "list_c = [2 * x for x in list_a] # 使用 list_a 初始化 list_c\n",
    "print (\"list_a : %s(%d)\" % (list_a, len(list_a)))\n",
    "print (\"list_b : %s(%d)\" % (list_b, len(list_a)))\n",
    "print (\"list_c : %s(%d)\" % (list_c, len(list_a)))\n",
    "print (list_a[0] + list_b[2])      # 访问 list_a 的第1个元素和 list_b 的第3个元素\n",
    "for x in list_a:                 # 循环遍历访问列表中每一个元素\n",
    "    print (x)"
   ]
  },
  {
   "cell_type": "markdown",
   "metadata": {},
   "source": [
    "---\n",
    "### 1.2 添加与删除"
   ]
  },
  {
   "cell_type": "markdown",
   "metadata": {},
   "source": [
    "向 `列表` 中添加元素，分为以下几种情况：\n",
    "1. 列表末尾添加一个元素\n",
    "2. 列表指定位置添加一个元素\n",
    "3. 将一个列表添加到另一个列表的后部\n",
    "\n",
    "接下来就让我们看看用代码如何实现以上三种功能"
   ]
  },
  {
   "cell_type": "code",
   "execution_count": 15,
   "metadata": {},
   "outputs": [
    {
     "name": "stdout",
     "output_type": "stream",
     "text": [
      "list_a = [0, 1, 2, 3, 4](5)\n",
      "list_b = [11, 12, 13, 14](4)\n",
      "list_a = [0, 1, 2, 3, 4, 10](6)\n",
      "list_a = [[1, 2, 3], 0, 1, 2, 3, 4, 10](7)\n",
      "list_a = [[1, 2, 3], 0, 1, 2, 3, 4, 10, 11, 12, 13, 14](11)\n"
     ]
    }
   ],
   "source": [
    "# example 3.1.3\n",
    "list_a = list(range(0, 5))\n",
    "list_b = list(range(11, 15))\n",
    "print (\"list_a = %s(%d)\" % (list_a, len(list_a)))\n",
    "print (\"list_b = %s(%d)\" % (list_b, len(list_b)))\n",
    "list_a.append(10)  # 向 list_a 的末尾添加元素 10\n",
    "print (\"list_a = %s(%d)\" % (list_a, len(list_a)))\n",
    "list_a.insert(0, [1, 2, 3]) # 在 list_a 中的 0 位置插入一个列表元素\n",
    "print (\"list_a = %s(%d)\" % (list_a, len(list_a)))\n",
    "list_a.extend(list_b)  # 将 list_b 中的所有元素追加到 list_a 的末尾 \n",
    "print (\"list_a = %s(%d)\" % (list_a, len(list_a)))"
   ]
  },
  {
   "cell_type": "markdown",
   "metadata": {},
   "source": [
    "---\n",
    "从 `列表` 中删除元素，分为以下几种情况：\n",
    "1. 删除某个元素\n",
    "2. 删除指定位置的元素\n",
    "    \n",
    "接下来就让我们看看用代码如何实现以上两种功能"
   ]
  },
  {
   "cell_type": "code",
   "execution_count": 19,
   "metadata": {},
   "outputs": [
    {
     "name": "stdout",
     "output_type": "stream",
     "text": [
      "list_a = [0, 1, 2, 3, 4](5)\n",
      "list_a(del list_a[1]) = [0, 2, 3, 4](4)\n",
      "list_a(list_a.pop(2)) = [0, 2, 4](3)\n"
     ]
    }
   ],
   "source": [
    "# example 3.1.4\n",
    "list_a = list(range(0, 5))\n",
    "print (\"list_a = %s(%d)\" % (list_a, len(list_a)))\n",
    "del list_a[1] # 删除 list_a[1] 这个元素\n",
    "print (\"list_a(del list_a[1]) = %s(%d)\" % (list_a, len(list_a)))\n",
    "list_a.pop(2) # 删除 list_a 中 index 为 2 的元素\n",
    "print (\"list_a(list_a.pop(2)) = %s(%d)\" % (list_a, len(list_a)))"
   ]
  },
  {
   "cell_type": "markdown",
   "metadata": {},
   "source": [
    "---\n",
    "### 1.3 列表截取"
   ]
  },
  {
   "cell_type": "markdown",
   "metadata": {},
   "source": [
    "有些时候，我们需要截取出列表中的某一小段数据，相关的列表截取方法会发挥大作用："
   ]
  },
  {
   "cell_type": "code",
   "execution_count": 22,
   "metadata": {},
   "outputs": [
    {
     "name": "stdout",
     "output_type": "stream",
     "text": [
      "list_a = [0, 1, 2, 3, 4, 5, 6, 7, 8, 9]\n",
      "list_a[0 : 5] = [0, 1, 2, 3, 4]\n",
      "list_a[ : -1] = [0, 1, 2, 3, 4, 5, 6]\n",
      "list_a[ : : 2] = [0, 2, 4, 6, 8]\n"
     ]
    }
   ],
   "source": [
    "# example 3.1.5\n",
    "list_a = list([x for x in range(0, 10)]) # 初始化一个具有10个元素的列表 0--9\n",
    "print (\"list_a = %s\" % list_a)\n",
    "print (\"list_a[0 : 5] = %s\" % list_a[0 : 5])   # 截取 index 在 [0, 5) 的值\n",
    "print (\"list_a[ : -1] = %s\" % list_a[ : -3])   # 从头截取到倒数第3位的前1位结束\n",
    "print (\"list_a[ : : 2] = %s\" % list_a[ : : 2]) # 每隔2位取一个元素"
   ]
  },
  {
   "cell_type": "markdown",
   "metadata": {},
   "source": [
    "---\n",
    "### 1.4 列表排序"
   ]
  },
  {
   "cell_type": "markdown",
   "metadata": {},
   "source": [
    "`排序` 是所有算法中最基础，也是最重要的一类算法，**Python** 中提供了自带的排序功能，针对列表，可以用如下两种排序方式：\n",
    "1. 列表的自身排序函数【 list.sort() 方法 】\n",
    "2. 返回新列表的排序方法【 sorted 函数 】\n",
    "\n",
    "下面我们就通过几个程序来看一下相关功能是如何实现的"
   ]
  },
  {
   "cell_type": "code",
   "execution_count": 27,
   "metadata": {},
   "outputs": [
    {
     "name": "stdout",
     "output_type": "stream",
     "text": [
      "unsoted list_a = [75, 24, 49, 19, 11]\n",
      "sorted list_b = [75, 49, 24, 19, 11]\n",
      "unsoted list_a = [75, 24, 49, 19, 11]\n",
      "soted list_a = [11, 19, 24, 49, 75]\n",
      "Help on method_descriptor:\n",
      "\n",
      "sort(...)\n",
      "    L.sort(key=None, reverse=False) -> None -- stable sort *IN PLACE*\n",
      "\n",
      "Help on built-in function sorted in module builtins:\n",
      "\n",
      "sorted(iterable, /, *, key=None, reverse=False)\n",
      "    Return a new list containing all items from the iterable in ascending order.\n",
      "    \n",
      "    A custom key function can be supplied to customize the sort order, and the\n",
      "    reverse flag can be set to request the result in descending order.\n",
      "\n"
     ]
    }
   ],
   "source": [
    "# example 3.1.6\n",
    "\n",
    "# 引用随机数模块 random\n",
    "import random\n",
    "list_a = []\n",
    "\n",
    "# 生成 5 个 1 到 100 的随机数\n",
    "for i in range(0, 5):\n",
    "    list_a.append(random.randint(1,100));\n",
    "print (\"unsoted list_a = %s\" % (list_a))\n",
    "\n",
    "'''\n",
    "  list_b 指向 sorted 的返回结果\n",
    "  分别打印 list_b 和 list_a\n",
    "  list_a 没有变化，\n",
    "  list_b 为 list_a 逆序排序的结果\n",
    "'''\n",
    "list_b = sorted(list_a, reverse = True)\n",
    "print (\"sorted list_b = %s\" % (list_b))\n",
    "print (\"unsoted list_a = %s\" % (list_a))\n",
    "\n",
    "# 调用 list_a 自身的 sort 函数\n",
    "list_a.sort();\n",
    "print (\"soted list_a = %s\" % (list_a))\n",
    "\n",
    "# 查看函数文档\n",
    "help(list.sort)\n",
    "help(sorted)"
   ]
  },
  {
   "cell_type": "markdown",
   "metadata": {},
   "source": [
    "---\n",
    "## 2、[元组](http://www.runoob.com/python/python-tuples.html)"
   ]
  },
  {
   "cell_type": "markdown",
   "metadata": {},
   "source": [
    "### 2.1 初始化及使用"
   ]
  },
  {
   "cell_type": "markdown",
   "metadata": {},
   "source": [
    "`元组(tuple)` 作为 Python 中的数据结构，创建与访问性质与 `列表` 很相似，可元组一旦生成，就不能更改。"
   ]
  },
  {
   "cell_type": "code",
   "execution_count": 28,
   "metadata": {},
   "outputs": [
    {
     "name": "stdout",
     "output_type": "stream",
     "text": [
      "tuple_a : ()\n",
      "tuple_b : ()\n"
     ]
    }
   ],
   "source": [
    "# example 3.2.1\n",
    "tuple_a = tuple() # list_a 指向一个空元组\n",
    "tuple_b = ()      # list_b 指向一个空元组\n",
    "print (\"tuple_a : %s\" % str(tuple_a))\n",
    "print (\"tuple_b : %s\" % str(tuple_b))"
   ]
  },
  {
   "cell_type": "markdown",
   "metadata": {},
   "source": [
    "以上代码演示的 `元组` 的初始化，是不是和 `列表` 的很像呢？  \n",
    "`元组` 和 `列表` 非常不一样的一点是： `元组` 一旦创建，其中的元素不能更改  \n",
    "\n",
    "请看下面这段有报错的代码，就说明了这个性质："
   ]
  },
  {
   "cell_type": "code",
   "execution_count": 31,
   "metadata": {},
   "outputs": [
    {
     "name": "stdout",
     "output_type": "stream",
     "text": [
      "tuple_a = (1, 2, 3)\n",
      "tuple_a[1] = 2\n",
      "tuple_a = (1, 2, 3, 4)\n"
     ]
    },
    {
     "ename": "TypeError",
     "evalue": "'tuple' object does not support item assignment",
     "output_type": "error",
     "traceback": [
      "\u001b[0;31m---------------------------------------------------------------------------\u001b[0m",
      "\u001b[0;31mTypeError\u001b[0m                                 Traceback (most recent call last)",
      "\u001b[0;32m<ipython-input-31-bffad5f4300c>\u001b[0m in \u001b[0;36m<module>\u001b[0;34m()\u001b[0m\n\u001b[1;32m      6\u001b[0m \u001b[0mtuple_a\u001b[0m \u001b[0;34m=\u001b[0m \u001b[0mtuple_a\u001b[0m \u001b[0;34m+\u001b[0m \u001b[0mtuple_b\u001b[0m \u001b[0;31m# 这句代码会生成一个新的元组\u001b[0m\u001b[0;34m\u001b[0m\u001b[0;34m\u001b[0m\u001b[0m\n\u001b[1;32m      7\u001b[0m \u001b[0mprint\u001b[0m \u001b[0;34m(\u001b[0m\u001b[0;34m\"tuple_a = %s\"\u001b[0m \u001b[0;34m%\u001b[0m \u001b[0mstr\u001b[0m\u001b[0;34m(\u001b[0m\u001b[0mtuple_a\u001b[0m\u001b[0;34m)\u001b[0m\u001b[0;34m)\u001b[0m\u001b[0;34m\u001b[0m\u001b[0;34m\u001b[0m\u001b[0m\n\u001b[0;32m----> 8\u001b[0;31m \u001b[0mtuple_a\u001b[0m\u001b[0;34m[\u001b[0m\u001b[0;36m2\u001b[0m\u001b[0;34m]\u001b[0m \u001b[0;34m=\u001b[0m \u001b[0;36m4\u001b[0m  \u001b[0;31m# 这句话会报错，原因是元组中的元素不可修改\u001b[0m\u001b[0;34m\u001b[0m\u001b[0;34m\u001b[0m\u001b[0m\n\u001b[0m",
      "\u001b[0;31mTypeError\u001b[0m: 'tuple' object does not support item assignment"
     ]
    }
   ],
   "source": [
    "# example 3.2.2\n",
    "tuple_a = (1, 2, 3)\n",
    "print (\"tuple_a = (%d, %d, %d)\" % tuple_a)\n",
    "print (\"tuple_a[1] = %d\" % (tuple_a[1]))\n",
    "tuple_b = (4,)  # 创建一个只有一个元素的元组\n",
    "tuple_a = tuple_a + tuple_b # 这句代码会生成一个新的元组\n",
    "print (\"tuple_a = %s\" % str(tuple_a))\n",
    "tuple_a[2] = 4  # 这句话会报错，原因是元组中的元素不可修改"
   ]
  },
  {
   "cell_type": "markdown",
   "metadata": {},
   "source": [
    "---\n",
    "### 2.2 元组的其他性质"
   ]
  },
  {
   "cell_type": "markdown",
   "metadata": {},
   "source": [
    "1. `元组` 的截取：与 `列表` 类似，请自行试验元组的截取相关代码\n",
    "2. `元组` 中元素数量：与 `列表` 类似，直接使用 ***len*** 函数\n",
    "3. 由于 `元组` 中的元素值不可变，所以可以用来作为 `字典` 的中的 key 值，而 `列表` 不可以"
   ]
  },
  {
   "cell_type": "markdown",
   "metadata": {},
   "source": [
    "---\n",
    "## 3、[字典](http://www.runoob.com/python/python-dictionary.html)"
   ]
  },
  {
   "cell_type": "markdown",
   "metadata": {},
   "source": [
    "### 3.1 初始化及访问"
   ]
  },
  {
   "cell_type": "markdown",
   "metadata": {},
   "source": [
    "`字典(dict)` 是 **Python** 中最重要的数据结构，这个真没有之一，类似于 C++ STL 中的 ***map***  \n",
    "\n",
    "下面就让我们一起来看看 `字典` 这种结构的初始化及访问操作："
   ]
  },
  {
   "cell_type": "code",
   "execution_count": 32,
   "metadata": {},
   "outputs": [
    {
     "name": "stdout",
     "output_type": "stream",
     "text": [
      "dict_a = {}\n",
      "dict_b = {}\n",
      "dict_c = {'baidu': 'https://www.baidu.com', 'haizei': 'http://www.haizeix.com', ('ali', 1): 'http://www.taobao.com', ('ali', 2): 'http://www.1688.com'}\n",
      "dict_c['haizei'] = http://www.haizeix.com\n"
     ]
    }
   ],
   "source": [
    "# example 3.3.1\n",
    "dict_a = dict()  # 初始化一个空字典\n",
    "dict_b = {}      # 初始化一个空字典\n",
    "# 初始化一个有元素的字典\n",
    "dict_c = {\n",
    "    \"baidu\" : \"https://www.baidu.com\",\n",
    "    \"haizei\": \"http://www.haizeix.com\",\n",
    "    (\"ali\", 1) : \"http://www.taobao.com\",\n",
    "    (\"ali\", 2) : \"http://www.1688.com\"\n",
    "}\n",
    "print (\"dict_a = %s\" % dict_a)\n",
    "print (\"dict_b = %s\" % dict_b)\n",
    "print (\"dict_c = %s\" % dict_c)\n",
    "print (\"dict_c['haizei'] = %s\" % dict_c['haizei'])"
   ]
  },
  {
   "cell_type": "markdown",
   "metadata": {},
   "source": [
    "上面这段代码，演示了如何初始化一个 `字典` 以及简单的访问字典中的元素。  \n",
    "\n",
    "下面就让我们一起来看看：\n",
    "\n",
    "1. 如何遍历一个 `字典` 中的所有元素\n",
    "2. 访问 `字典` 中不存在的值时，返回一个默认值\n",
    "3. `字典` 中的 items 方法"
   ]
  },
  {
   "cell_type": "code",
   "execution_count": 37,
   "metadata": {},
   "outputs": [
    {
     "name": "stdout",
     "output_type": "stream",
     "text": [
      "dict_a = {'num-0': 5, 'num-1': 10, 'num-2': 6, 'num-3': 7, 'num-4': 4}\n",
      "key = num-0 , value = 5\n",
      "key = num-1 , value = 10\n",
      "key = num-2 , value = 6\n",
      "key = num-3 , value = 7\n",
      "key = num-4 , value = 4\n",
      "dict_a.items = [('num-4', 4), ('num-0', 5), ('num-2', 6), ('num-3', 7), ('num-1', 10)]\n",
      "dict_a.get('num-5', 0) = 0\n"
     ]
    },
    {
     "ename": "KeyError",
     "evalue": "'num-5'",
     "output_type": "error",
     "traceback": [
      "\u001b[0;31m---------------------------------------------------------------------------\u001b[0m",
      "\u001b[0;31mKeyError\u001b[0m                                  Traceback (most recent call last)",
      "\u001b[0;32m<ipython-input-37-0a19b6e9a114>\u001b[0m in \u001b[0;36m<module>\u001b[0;34m()\u001b[0m\n\u001b[1;32m     23\u001b[0m \u001b[0;34m\u001b[0m\u001b[0m\n\u001b[1;32m     24\u001b[0m \u001b[0;31m# 下面这行代码会报错，因为访问了一个不存在的键值\u001b[0m\u001b[0;34m\u001b[0m\u001b[0;34m\u001b[0m\u001b[0;34m\u001b[0m\u001b[0m\n\u001b[0;32m---> 25\u001b[0;31m \u001b[0mprint\u001b[0m \u001b[0;34m(\u001b[0m\u001b[0;34m\"dict_a['num-5']= %d\"\u001b[0m \u001b[0;34m%\u001b[0m \u001b[0mdict_a\u001b[0m\u001b[0;34m[\u001b[0m\u001b[0;34m'num-5'\u001b[0m\u001b[0;34m]\u001b[0m\u001b[0;34m)\u001b[0m\u001b[0;34m\u001b[0m\u001b[0;34m\u001b[0m\u001b[0m\n\u001b[0m",
      "\u001b[0;31mKeyError\u001b[0m: 'num-5'"
     ]
    }
   ],
   "source": [
    "# example 3.3.2\n",
    "import random\n",
    "dict_a = {}\n",
    "for i in range(0, 5):\n",
    "    dict_a[\"num-%d\" % i] = random.randint(1, 10)\n",
    "print (\"dict_a = %s\" % dict_a)\n",
    "for key in dict_a.keys():\n",
    "    print (\"key = %s , value = %d\" % (key, dict_a[key]))\n",
    "\n",
    "def my_cmp(a, b):\n",
    "    if a[1] < b[1]:\n",
    "        return -1\n",
    "    elif a[1] == b[1]:\n",
    "        return 0\n",
    "    else :\n",
    "        return 1\n",
    "    \n",
    "# dict_a.items() 返回的是一个 (key, value) 的 元组列表\n",
    "print (\"dict_a.items = %s\" % sorted(dict_a.items(), key = lambda x : x[1]))\n",
    "\n",
    "# 下面这行代码不会报错，当键值不存在的时候，某人返回 0\n",
    "print (\"dict_a.get('num-5', 0) = %d\" % dict_a.get('num-5', 0))\n",
    "\n",
    "# 下面这行代码会报错，因为访问了一个不存在的键值\n",
    "print (\"dict_a['num-5']= %d\" % dict_a['num-5'])"
   ]
  },
  {
   "cell_type": "markdown",
   "metadata": {},
   "source": [
    "---\n",
    "### 3.2 添加与删除"
   ]
  },
  {
   "cell_type": "markdown",
   "metadata": {},
   "source": [
    "在 `字典` 中添加元素很简单，删除元素与 `列表` 相似。  \n",
    "\n",
    "以下例子将演示如下几种情况：\n",
    "1. 向 `字典` 中添加一个元素，如果元素存在，改变其原有值\n",
    "2. 向 `字典` 中添加一个元素，如果元素存在，不改变其原有值\n",
    "3. 删除 `字典` 中的一个元素"
   ]
  },
  {
   "cell_type": "code",
   "execution_count": 39,
   "metadata": {},
   "outputs": [
    {
     "name": "stdout",
     "output_type": "stream",
     "text": [
      "dict_a = {0: 0, 1: 1}\n",
      "dict_a = {0: 9, 1: 1, 2: 10}\n",
      "dict_a = {0: 9, 1: 1, 2: 10, 3: 999}\n",
      "dict_a = {0: 9, 1: 1, 3: 999}\n",
      "dict_a = {0: 9, 1: 1}\n"
     ]
    }
   ],
   "source": [
    "# example 3.3.3\n",
    "dict_a = { 0 : 0, 1 : 1 }\n",
    "print (\"dict_a = %s\" % dict_a)\n",
    "\n",
    "# 添加元素，如果存在，等价于赋值操作\n",
    "dict_a[0] = 9\n",
    "dict_a[2] = 10\n",
    "print (\"dict_a = %s\" % dict_a)\n",
    "\n",
    "# 添加元素，如果存在，则操作无效果\n",
    "dict_a.setdefault(1, 999)\n",
    "dict_a.setdefault(3, 999)\n",
    "print (\"dict_a = %s\" % dict_a)\n",
    "\n",
    "# 删除字典中的一个元素\n",
    "del dict_a[2]\n",
    "print (\"dict_a = %s\" % dict_a)\n",
    "dict_a.pop(3);\n",
    "print (\"dict_a = %s\" % dict_a)"
   ]
  },
  {
   "cell_type": "markdown",
   "metadata": {},
   "source": [
    "`字典` 还可以配合 ***格式化字符串*** 一起使用，具体请看 `字符串` -> `格式化字符串` 相关的内容。"
   ]
  },
  {
   "cell_type": "markdown",
   "metadata": {},
   "source": [
    "---\n",
    "## 4、[字符串](http://www.runoob.com/python/python-strings.html)"
   ]
  },
  {
   "cell_type": "markdown",
   "metadata": {},
   "source": [
    "### 4.1 初始化及访问"
   ]
  },
  {
   "cell_type": "markdown",
   "metadata": {},
   "source": [
    "`字符串(str)` 作为计算机中最普遍的一种存储信息的格式，在 **Python** 中当然也有相关的操作，对其相关操作和概念理解，同学们应该加以重视。  \n",
    "\n",
    "在正式开始看下面内容之前，先请同学们记住一个关键的知识点【`字符串` 是特殊的 `列表`】  \n",
    "下面就让我们看看 `字符串` 的相关初始化及访问的方法："
   ]
  },
  {
   "cell_type": "code",
   "execution_count": 40,
   "metadata": {},
   "outputs": [
    {
     "name": "stdout",
     "output_type": "stream",
     "text": [
      "str_a = \n",
      "str_b = \n",
      "str_c = hello\tworld\n",
      "str_d = hello\\tworld\n",
      "str_e = hello 'world'\n",
      "\t这是一个多行字符串，\n",
      "    python会原封不动的输出这些内容。\n",
      "    \\t 也会被转义，如果不想转义，前面加 'r' 试试\n",
      "    这是内容的最后一行\n"
     ]
    }
   ],
   "source": [
    "# example 3.4.1\n",
    "str_a = str()\n",
    "str_b = \"\"\n",
    "\n",
    "# 定义一个扑通字符串字符串，其中 \\t 会被转义\n",
    "str_c = \"hello\\tworld\"\n",
    "\n",
    "# 定义一个非转义字符串\n",
    "str_d = r\"hello\\tworld\"\n",
    "\n",
    "# 定义一个 UNICODE 字符串\n",
    "str_e = u\"hello\\u0020'world'\"\n",
    "\n",
    "# 定义一个多行字符串，同多行注释\n",
    "str_f = '''\\t这是一个多行字符串，\n",
    "    python会原封不动的输出这些内容。\n",
    "    \\\\t 也会被转义，如果不想转义，前面加 'r' 试试\n",
    "    这是内容的最后一行'''\n",
    "print (\"str_a = %s\" % str_a)\n",
    "print (\"str_b = %s\" % str_b)\n",
    "print (\"str_c = %s\" % str_c)\n",
    "print (\"str_d = %s\" % str_d)\n",
    "print (\"str_e = %s\" % str_e)\n",
    "print (\"%s\" % str_f)"
   ]
  },
  {
   "cell_type": "markdown",
   "metadata": {},
   "source": [
    "以上代码演示了 **Python** 字符串初始化的几种方式，由于 `字符串` 是一种特殊的 `列表`，所以请同学们自行编写代码尝试如下内容的知识：\n",
    "1. `字符串` 的截取（参考 `列表` 的截取）\n",
    "2. `字符串` 中字符的遍历（参考 `列表` 的遍历）\n",
    "3. `字符串` 的连接（参考 `列表` 的连接）"
   ]
  },
  {
   "cell_type": "markdown",
   "metadata": {},
   "source": [
    "---\n",
    "### 4.2 格式化字符串"
   ]
  },
  {
   "cell_type": "markdown",
   "metadata": {},
   "source": [
    "***格式化字符串*** 是一个非常方便的工具，可以按照我们想要的格式模板，镶嵌不同的内容，成为满足不同需求的字符串。在之前的课程中，我们已经看到了 ***格式化字符串*** 的身影，这一节，就让我们再重新的认识一下这个有趣的工具。\n",
    "\n",
    "有 C/C++ 语言基础的小伙伴，对于格式化字符串的理解会轻松很多，和 `scanf, printf` 很相似。"
   ]
  },
  {
   "cell_type": "code",
   "execution_count": 43,
   "metadata": {},
   "outputs": [
    {
     "name": "stdout",
     "output_type": "stream",
     "text": [
      "192.168.1.1\n",
      "hug@haizeix.com\n",
      "2017-10-22\n",
      "2017-10-23\n",
      "731.343434...\n"
     ]
    }
   ],
   "source": [
    "# example 3.4.2\n",
    "# 按照 IP 格式输出数据\n",
    "format_a = \"%d.%d.%d.%d\"\n",
    "list_a = [192, 168, 1, 1]\n",
    "print (format_a % tuple(list_a))\n",
    "\n",
    "# 按照邮件格式输出邮件地址\n",
    "format_b = \"%(user)s@%(host)s\"\n",
    "dict_b = {\n",
    "    \"user\" : \"hug\",\n",
    "    \"host\" : \"haizeix.com\"\n",
    "}\n",
    "print (format_b % dict_b)\n",
    "\n",
    "# 按照日期格式输出一个具体日期\n",
    "format_c1 = \"%(year)d-%(month)d-%(day)d\"\n",
    "format_c2 = \"%d-%d-%d\"\n",
    "dict_c = {\"year\":2017, \"month\":10, \"day\":22}\n",
    "tuple_c = (2017,10,23)\n",
    "print (format_c1 % dict_c)\n",
    "print (format_c2 % tuple_c)\n",
    "\n",
    "# 按照循环小数的形式，输出一个循环小数\n",
    "format_d = \"{0}.{1}{1}{1}...\"\n",
    "print (format_d.format(731, 34))"
   ]
  },
  {
   "cell_type": "markdown",
   "metadata": {},
   "source": [
    "关于 `字符串` 处理的更多内容，请大家自行翻阅文档手册：[Python 2.7标准手册](https://docs.python.org/2/)"
   ]
  },
  {
   "cell_type": "markdown",
   "metadata": {},
   "source": [
    "---\n",
    "## 5、课后作业"
   ]
  },
  {
   "cell_type": "markdown",
   "metadata": {},
   "source": [
    "1. 生成一个包含 $100$ 个在 $[1--100]$ 之间的整型元素的列表，然后求其中所有偶数元素的和。\n",
    "2. 生成一个包含 $20$ 个三元组的列表，然后按照三元组中的第二列值从小到大排序。\n",
    "3. 使用列表，模拟一个单调队列入队与出队的过程。\n",
    "4. 生成一个包含 $20$ 个三元组的列表，每个三元组代表一个日期，按照日期从大到小排序，并将其转换为 $20$ 个日期字符串。"
   ]
  },
  {
   "cell_type": "code",
   "execution_count": 4,
   "metadata": {},
   "outputs": [
    {
     "name": "stdout",
     "output_type": "stream",
     "text": [
      "2448\n"
     ]
    }
   ],
   "source": [
    "import random\n",
    "arr = [random.randint(1, 100) for x in xrange(1, 101)]\n",
    "print (reduce(lambda x, y : x + (1 - y % 2) * y, arr, 0))"
   ]
  },
  {
   "cell_type": "code",
   "execution_count": 45,
   "metadata": {},
   "outputs": [
    {
     "name": "stdout",
     "output_type": "stream",
     "text": [
      "2016-7-13\n",
      "2009-9-15\n",
      "2006-3-28\n",
      "2000-4-14\n",
      "1997-7-15\n",
      "1989-11-28\n",
      "1983-10-9\n",
      "1978-4-11\n",
      "1973-7-19\n",
      "1973-4-11\n",
      "1965-1-13\n",
      "1964-8-20\n",
      "1951-2-6\n",
      "1940-12-13\n",
      "1934-1-12\n",
      "1921-4-7\n",
      "1914-2-25\n",
      "1909-9-17\n",
      "1906-11-27\n",
      "1901-5-21\n"
     ]
    }
   ],
   "source": [
    "import random\n",
    "from operator import itemgetter\n",
    "a=[]\n",
    "for x in range(0,20):\n",
    "    a.append((random.randint(1900,2019), random.randint(1,12), random.randint(1,29)))\n",
    "for x in sorted(a, key = itemgetter(0, 1, 2), reverse = True):\n",
    "    print (\"%d-%d-%d\" % x)"
   ]
  },
  {
   "cell_type": "code",
   "execution_count": null,
   "metadata": {},
   "outputs": [],
   "source": []
  }
 ],
 "metadata": {
  "kernelspec": {
   "display_name": "Python 3",
   "language": "python",
   "name": "python3"
  },
  "language_info": {
   "codemirror_mode": {
    "name": "ipython",
    "version": 3
   },
   "file_extension": ".py",
   "mimetype": "text/x-python",
   "name": "python",
   "nbconvert_exporter": "python",
   "pygments_lexer": "ipython3",
   "version": "3.6.12"
  }
 },
 "nbformat": 4,
 "nbformat_minor": 2
}
