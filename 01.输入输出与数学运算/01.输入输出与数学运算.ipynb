{
 "cells": [
  {
   "cell_type": "markdown",
   "metadata": {},
   "source": [
    "# Python 第一课 By 海贼"
   ]
  },
  {
   "cell_type": "markdown",
   "metadata": {},
   "source": [
    "## 1、输入和输出\n",
    "\n",
    "下面我们先从一个最简单的程序开始，认识 **Python** 语言，经典的 *hello world* 程序就不带大家看了，今天来看看这个 *hello haizei*"
   ]
  },
  {
   "cell_type": "code",
   "execution_count": null,
   "metadata": {},
   "outputs": [],
   "source": [
    "#example 1.1.1\n",
    "print (\"hello haizei\")\n",
    "print (\"haizei\")"
   ]
  },
  {
   "cell_type": "markdown",
   "metadata": {},
   "source": [
    "正如大家看到的，**Python** 的输出就是这样的简洁。  \n",
    "接下来再带大家看一个 **Python** 读入的例子："
   ]
  },
  {
   "cell_type": "code",
   "execution_count": null,
   "metadata": {},
   "outputs": [],
   "source": [
    "#example 1.1.2\n",
    "a = input(\"please input :\")\n",
    "print (\"a =\", a)\n",
    "b = int(input())\n",
    "print (b + 4)"
   ]
  },
  {
   "cell_type": "markdown",
   "metadata": {},
   "source": [
    "*raw_input* 是 **Python** 中用来读入的方法，每次读入一行字符串，方法中可以传入一个字符串，代表用户输入时的提示信息\n",
    "\n",
    "接下来演示的东西，设计到后面学习 **Python** 中相关的只是，看不懂的小伙伴，也不要太纠结下面一段代码演示的是同一行读入两个数字："
   ]
  },
  {
   "cell_type": "code",
   "execution_count": null,
   "metadata": {},
   "outputs": [],
   "source": [
    "#example 1.1.3\n",
    "a, b = [int(x) for x in input(\"input two num : \").split()]\n",
    "print (\"%d + %d =\" %(a, b), a + b)\n",
    "a, b = [int(x) for x in input(\"input two num : \").split()]\n",
    "print (\"%d + %d =\" %(a, b), a + b)"
   ]
  },
  {
   "cell_type": "markdown",
   "metadata": {},
   "source": [
    "## 2.数学运算\n",
    "\n",
    "四则混合运算是人类使用程序语言最基本的需求(没有之一)，接下来就让我们一起来看看 **Python** 中的四则混合运算"
   ]
  },
  {
   "cell_type": "code",
   "execution_count": null,
   "metadata": {},
   "outputs": [],
   "source": [
    "#example 1.2.1\n",
    "a = 10\n",
    "b = 4\n",
    "print (\"%d + %d =\" %(a, b), a + b)\n",
    "print (\"%d * %d =\" %(a, b), a * b)\n",
    "print (\"%d / %d =\" %(a, b), a / b)\n",
    "print (\"%d // %d =\" %(a, b), a // b)\n",
    "print (\"%d *1.0 / %d =\" %(a, b), a * 1.0 / b)\n",
    "print (\"%d *1.0 // %d =\" %(a, b), a // b)\n",
    "print (\"%d ^ 3 =\" %(b), b ** 3)"
   ]
  },
  {
   "cell_type": "markdown",
   "metadata": {},
   "source": [
    "上面演示了最基本的四则运算，那么在 **Python** 中如何从 *stdin* 读入数字呢，请看下面的例子:"
   ]
  },
  {
   "cell_type": "code",
   "execution_count": null,
   "metadata": {},
   "outputs": [],
   "source": [
    "#example 1.2.2\n",
    "a = int(input(\"input a : \"))\n",
    "b = int(input(\"input b : \"))\n",
    "print (\"%d + %d =\" %(a, b), a + b)\n",
    "a = float(input(\"input float a : \"))\n",
    "b = float(input(\"input float b : \"))\n",
    "print (\"%f + %f =\" % (a, b), a + b)"
   ]
  },
  {
   "cell_type": "markdown",
   "metadata": {},
   "source": [
    "除了以上基本的数学运算外，**Python** 在数学运算方面，最迷人的应该就是天生支持大整数运算的特性。\n",
    "\n",
    "下面这段代码中用到了 **Python** 中的 for 语句，语法比较简单，小伙伴们别害怕，  \n",
    "看一看 **Python** 是如何计算 $100!$ 的："
   ]
  },
  {
   "cell_type": "code",
   "execution_count": null,
   "metadata": {},
   "outputs": [],
   "source": [
    "#example 1.2.3\n",
    "result = 1\n",
    "for i in range(1,100):\n",
    "    result *= i\n",
    "print (result = 1)"
   ]
  },
  {
   "cell_type": "markdown",
   "metadata": {},
   "source": [
    "最后来让我们看一下 **Python** 中比较特殊的字符串类的数学运算"
   ]
  },
  {
   "cell_type": "code",
   "execution_count": null,
   "metadata": {},
   "outputs": [],
   "source": [
    "#example 1.2.4\n",
    "a = \"hello \"\n",
    "b = \"world\"\n",
    "print (a + b)\n",
    "print (a * 2 + b)"
   ]
  },
  {
   "cell_type": "markdown",
   "metadata": {},
   "source": [
    "## 3.Python 中的注释\n",
    "\n",
    "**Python** 中的注释分成两种，一种是单行注释（用1个 sharp(#)），一种是多行注释（用3个单引号（'））"
   ]
  },
  {
   "cell_type": "code",
   "execution_count": null,
   "metadata": {},
   "outputs": [],
   "source": [
    "#example 1.3.1\n",
    "#这是一个单行注释，注释掉其后米娜所有内容\n",
    "'''\n",
    "这是一个多行注释，注释掉这种种的全部内容\n",
    "print \"hello world\" # 这行代码不会有效果\n",
    "'''\n",
    "print (\"hello haizei\") #这行代码会有输出"
   ]
  },
  {
   "cell_type": "markdown",
   "metadata": {},
   "source": [
    "## 4.课后作业\n",
    "\n",
    "1.参考 example 1.1.3 实现程序：输入n个数字，输出n个数字和<br/>\n",
    "2.参考 example 1.2.3 求100！各位相加之和"
   ]
  },
  {
   "cell_type": "markdown",
   "metadata": {},
   "source": [
    "### 4.1作业提交"
   ]
  },
  {
   "cell_type": "code",
   "execution_count": null,
   "metadata": {},
   "outputs": [],
   "source": [
    "a = [int(x) for x in input(\"请输入n个数：\").split()]\n",
    "n = 0\n",
    "for i in a:\n",
    "    n += i\n",
    "print(n)"
   ]
  },
  {
   "cell_type": "markdown",
   "metadata": {},
   "source": [
    "### 4.2作业提交"
   ]
  },
  {
   "cell_type": "code",
   "execution_count": null,
   "metadata": {},
   "outputs": [],
   "source": [
    "result = 2\n",
    "for i in range(1,101):\n",
    "    result *= i\n",
    "print(result)"
   ]
  },
  {
   "cell_type": "code",
   "execution_count": null,
   "metadata": {},
   "outputs": [],
   "source": []
  }
 ],
 "metadata": {
  "kernelspec": {
   "display_name": "Python 3",
   "language": "python",
   "name": "python3"
  },
  "language_info": {
   "codemirror_mode": {
    "name": "ipython",
    "version": 3
   },
   "file_extension": ".py",
   "mimetype": "text/x-python",
   "name": "python",
   "nbconvert_exporter": "python",
   "pygments_lexer": "ipython3",
   "version": "3.6.12"
  }
 },
 "nbformat": 4,
 "nbformat_minor": 2
}
